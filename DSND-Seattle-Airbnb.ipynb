{
 "cells": [
  {
   "cell_type": "markdown",
   "metadata": {},
   "source": [
    "## Introduction\n",
    "In this notebook, I will apply CRISP-DM steps on [Seattle-Airbnb-data](https://www.kaggle.com/datasets/airbnb/seattle) to answer below questions:\n",
    "1. Which are the top five highly rated hosts? Are all of them superhosts? \n",
    "2. Are the top ten reviewing/loyal customers satisfied or in simple words have they rated on higher side or lower side than average rating?\n",
    "3. What are the most correlated features with price of the listing? \n",
    "4. Does review rating and cancellation policy have any influence on price? If yes how much compared to other features?"
   ]
  },
  {
   "cell_type": "markdown",
   "metadata": {},
   "source": [
    "### Data Description\n",
    "There are three datasets provided in Seattle-Airbnb-data.The following Airbnb activity is included in this Seattle dataset:\n",
    "\n",
    "1. Listings, including full descriptions and average review score\n",
    "2. Reviews, including unique id for each reviewer and detailed comments\n",
    "3. Calendar, including listing id and the price and availability for that day\n",
    "<br> Lets take a peek at each dataset."
   ]
  },
  {
   "cell_type": "code",
   "execution_count": 19,
   "metadata": {},
   "outputs": [],
   "source": [
    "import pandas as pd\n",
    "import numpy as np\n",
    "import plotly.express as px\n",
    "import seaborn as sns\n",
    "import matplotlib.pyplot as plt\n",
    "from sklearn import preprocessing\n",
    "import xgboost as xgb\n",
    "from sklearn.model_selection import train_test_split, KFold, GridSearchCV\n",
    "from sklearn.metrics import mean_squared_error, make_scorer\n",
    "import shap\n",
    "\n",
    "import warnings\n",
    "warnings.filterwarnings('ignore')\n"
   ]
  },
  {
   "cell_type": "code",
   "execution_count": 20,
   "metadata": {},
   "outputs": [],
   "source": [
    "#Load data\n",
    "reviews = pd.read_csv(r\"Data\\DSND\\reviews.csv\")\n",
    "listing = pd.read_csv(\"Data\\DSND\\listings.csv\")\n",
    "cal = pd.read_csv(\"Data/DSND/calendar.csv\")"
   ]
  },
  {
   "cell_type": "code",
   "execution_count": 21,
   "metadata": {
    "scrolled": false
   },
   "outputs": [
    {
     "name": "stdout",
     "output_type": "stream",
     "text": [
      "Reviews\n"
     ]
    },
    {
     "data": {
      "text/html": [
       "<table border=\"1\" class=\"dataframe\">\n",
       "  <thead>\n",
       "    <tr style=\"text-align: right;\">\n",
       "      <th></th>\n",
       "      <th>listing_id</th>\n",
       "      <th>id</th>\n",
       "      <th>date</th>\n",
       "      <th>reviewer_id</th>\n",
       "      <th>reviewer_name</th>\n",
       "      <th>comments</th>\n",
       "    </tr>\n",
       "  </thead>\n",
       "  <tbody>\n",
       "    <tr>\n",
       "      <th>0</th>\n",
       "      <td>7202016</td>\n",
       "      <td>38917982</td>\n",
       "      <td>2015-07-19</td>\n",
       "      <td>28943674</td>\n",
       "      <td>Bianca</td>\n",
       "      <td>Cute and cozy place. Perfect location to everything!</td>\n",
       "    </tr>\n",
       "    <tr>\n",
       "      <th>1</th>\n",
       "      <td>7202016</td>\n",
       "      <td>39087409</td>\n",
       "      <td>2015-07-20</td>\n",
       "      <td>32440555</td>\n",
       "      <td>Frank</td>\n",
       "      <td>Kelly has a great room in a very central location. \\r\\nBeautiful building , architecture and a style that we really like. \\r\\nWe felt guite at home here and wish we had spent more time.\\r\\nWent for a walk and found Seattle Center with a major food festival in progress. What a treat.\\r\\nVisited the Space Needle and the Chihuly Glass exhibit. Then Pikes Place Market. WOW.  Thanks for a great stay.</td>\n",
       "    </tr>\n",
       "    <tr>\n",
       "      <th>2</th>\n",
       "      <td>7202016</td>\n",
       "      <td>39820030</td>\n",
       "      <td>2015-07-26</td>\n",
       "      <td>37722850</td>\n",
       "      <td>Ian</td>\n",
       "      <td>Very spacious apartment, and in a great neighborhood.  This is the kind of apartment I wish I had!\\r\\n\\r\\nDidn't really get to meet Kelly until I was on my out, but she was always readily available by phone. \\r\\n\\r\\nI believe the only \"issue\" (if you want to call it that) was finding a place to park, but I sincerely doubt its easy to park anywhere in a residential area after 5 pm on a Friday</td>\n",
       "    </tr>\n",
       "    <tr>\n",
       "      <th>3</th>\n",
       "      <td>7202016</td>\n",
       "      <td>40813543</td>\n",
       "      <td>2015-08-02</td>\n",
       "      <td>33671805</td>\n",
       "      <td>George</td>\n",
       "      <td>Close to Seattle Center and all it has to offer - ballet, theater, museum, Space Needle, restaurants of all ilk just blocks away, and the Metropolitan (probably the coolest grocer you'll ever find). Easy to find and Kelly was warm, welcoming, and really interesting to talk to.</td>\n",
       "    </tr>\n",
       "    <tr>\n",
       "      <th>4</th>\n",
       "      <td>7202016</td>\n",
       "      <td>41986501</td>\n",
       "      <td>2015-08-10</td>\n",
       "      <td>34959538</td>\n",
       "      <td>Ming</td>\n",
       "      <td>Kelly was a great host and very accommodating in a great neighborhood. She has some great coffee and while I wasn't around much during my stay the time I spent interacting with her was very pleasant. \\r\\n\\r\\nThe apartment is in a great location and very close to the Seattle Center. The neighborhood itself has a lot of good food as well!</td>\n",
       "    </tr>\n",
       "  </tbody>\n",
       "</table>"
      ],
      "text/plain": [
       "<IPython.core.display.HTML object>"
      ]
     },
     "metadata": {},
     "output_type": "display_data"
    },
    {
     "name": "stdout",
     "output_type": "stream",
     "text": [
      "listing\n"
     ]
    },
    {
     "data": {
      "text/html": [
       "<div>\n",
       "<style scoped>\n",
       "    .dataframe tbody tr th:only-of-type {\n",
       "        vertical-align: middle;\n",
       "    }\n",
       "\n",
       "    .dataframe tbody tr th {\n",
       "        vertical-align: top;\n",
       "    }\n",
       "\n",
       "    .dataframe thead th {\n",
       "        text-align: right;\n",
       "    }\n",
       "</style>\n",
       "<table border=\"1\" class=\"dataframe\">\n",
       "  <thead>\n",
       "    <tr style=\"text-align: right;\">\n",
       "      <th></th>\n",
       "      <th>id</th>\n",
       "      <th>listing_url</th>\n",
       "      <th>scrape_id</th>\n",
       "      <th>last_scraped</th>\n",
       "      <th>name</th>\n",
       "      <th>summary</th>\n",
       "      <th>space</th>\n",
       "      <th>description</th>\n",
       "      <th>experiences_offered</th>\n",
       "      <th>neighborhood_overview</th>\n",
       "      <th>...</th>\n",
       "      <th>review_scores_value</th>\n",
       "      <th>requires_license</th>\n",
       "      <th>license</th>\n",
       "      <th>jurisdiction_names</th>\n",
       "      <th>instant_bookable</th>\n",
       "      <th>cancellation_policy</th>\n",
       "      <th>require_guest_profile_picture</th>\n",
       "      <th>require_guest_phone_verification</th>\n",
       "      <th>calculated_host_listings_count</th>\n",
       "      <th>reviews_per_month</th>\n",
       "    </tr>\n",
       "  </thead>\n",
       "  <tbody>\n",
       "    <tr>\n",
       "      <th>0</th>\n",
       "      <td>241032</td>\n",
       "      <td>https://www.airbnb.com/rooms/241032</td>\n",
       "      <td>20160104002432</td>\n",
       "      <td>2016-01-04</td>\n",
       "      <td>Stylish Queen Anne Apartment</td>\n",
       "      <td>NaN</td>\n",
       "      <td>Make your self at home in this charming one-be...</td>\n",
       "      <td>Make your self at home in this charming one-be...</td>\n",
       "      <td>none</td>\n",
       "      <td>NaN</td>\n",
       "      <td>...</td>\n",
       "      <td>10.0</td>\n",
       "      <td>f</td>\n",
       "      <td>NaN</td>\n",
       "      <td>WASHINGTON</td>\n",
       "      <td>f</td>\n",
       "      <td>moderate</td>\n",
       "      <td>f</td>\n",
       "      <td>f</td>\n",
       "      <td>2</td>\n",
       "      <td>4.07</td>\n",
       "    </tr>\n",
       "    <tr>\n",
       "      <th>1</th>\n",
       "      <td>953595</td>\n",
       "      <td>https://www.airbnb.com/rooms/953595</td>\n",
       "      <td>20160104002432</td>\n",
       "      <td>2016-01-04</td>\n",
       "      <td>Bright &amp; Airy Queen Anne Apartment</td>\n",
       "      <td>Chemically sensitive? We've removed the irrita...</td>\n",
       "      <td>Beautiful, hypoallergenic apartment in an extr...</td>\n",
       "      <td>Chemically sensitive? We've removed the irrita...</td>\n",
       "      <td>none</td>\n",
       "      <td>Queen Anne is a wonderful, truly functional vi...</td>\n",
       "      <td>...</td>\n",
       "      <td>10.0</td>\n",
       "      <td>f</td>\n",
       "      <td>NaN</td>\n",
       "      <td>WASHINGTON</td>\n",
       "      <td>f</td>\n",
       "      <td>strict</td>\n",
       "      <td>t</td>\n",
       "      <td>t</td>\n",
       "      <td>6</td>\n",
       "      <td>1.48</td>\n",
       "    </tr>\n",
       "    <tr>\n",
       "      <th>2</th>\n",
       "      <td>3308979</td>\n",
       "      <td>https://www.airbnb.com/rooms/3308979</td>\n",
       "      <td>20160104002432</td>\n",
       "      <td>2016-01-04</td>\n",
       "      <td>New Modern House-Amazing water view</td>\n",
       "      <td>New modern house built in 2013.  Spectacular s...</td>\n",
       "      <td>Our house is modern, light and fresh with a wa...</td>\n",
       "      <td>New modern house built in 2013.  Spectacular s...</td>\n",
       "      <td>none</td>\n",
       "      <td>Upper Queen Anne is a charming neighborhood fu...</td>\n",
       "      <td>...</td>\n",
       "      <td>10.0</td>\n",
       "      <td>f</td>\n",
       "      <td>NaN</td>\n",
       "      <td>WASHINGTON</td>\n",
       "      <td>f</td>\n",
       "      <td>strict</td>\n",
       "      <td>f</td>\n",
       "      <td>f</td>\n",
       "      <td>2</td>\n",
       "      <td>1.15</td>\n",
       "    </tr>\n",
       "    <tr>\n",
       "      <th>3</th>\n",
       "      <td>7421966</td>\n",
       "      <td>https://www.airbnb.com/rooms/7421966</td>\n",
       "      <td>20160104002432</td>\n",
       "      <td>2016-01-04</td>\n",
       "      <td>Queen Anne Chateau</td>\n",
       "      <td>A charming apartment that sits atop Queen Anne...</td>\n",
       "      <td>NaN</td>\n",
       "      <td>A charming apartment that sits atop Queen Anne...</td>\n",
       "      <td>none</td>\n",
       "      <td>NaN</td>\n",
       "      <td>...</td>\n",
       "      <td>NaN</td>\n",
       "      <td>f</td>\n",
       "      <td>NaN</td>\n",
       "      <td>WASHINGTON</td>\n",
       "      <td>f</td>\n",
       "      <td>flexible</td>\n",
       "      <td>f</td>\n",
       "      <td>f</td>\n",
       "      <td>1</td>\n",
       "      <td>NaN</td>\n",
       "    </tr>\n",
       "    <tr>\n",
       "      <th>4</th>\n",
       "      <td>278830</td>\n",
       "      <td>https://www.airbnb.com/rooms/278830</td>\n",
       "      <td>20160104002432</td>\n",
       "      <td>2016-01-04</td>\n",
       "      <td>Charming craftsman 3 bdm house</td>\n",
       "      <td>Cozy family craftman house in beautiful neighb...</td>\n",
       "      <td>Cozy family craftman house in beautiful neighb...</td>\n",
       "      <td>Cozy family craftman house in beautiful neighb...</td>\n",
       "      <td>none</td>\n",
       "      <td>We are in the beautiful neighborhood of Queen ...</td>\n",
       "      <td>...</td>\n",
       "      <td>9.0</td>\n",
       "      <td>f</td>\n",
       "      <td>NaN</td>\n",
       "      <td>WASHINGTON</td>\n",
       "      <td>f</td>\n",
       "      <td>strict</td>\n",
       "      <td>f</td>\n",
       "      <td>f</td>\n",
       "      <td>1</td>\n",
       "      <td>0.89</td>\n",
       "    </tr>\n",
       "  </tbody>\n",
       "</table>\n",
       "<p>5 rows × 92 columns</p>\n",
       "</div>"
      ],
      "text/plain": [
       "        id                           listing_url       scrape_id last_scraped  \\\n",
       "0   241032   https://www.airbnb.com/rooms/241032  20160104002432   2016-01-04   \n",
       "1   953595   https://www.airbnb.com/rooms/953595  20160104002432   2016-01-04   \n",
       "2  3308979  https://www.airbnb.com/rooms/3308979  20160104002432   2016-01-04   \n",
       "3  7421966  https://www.airbnb.com/rooms/7421966  20160104002432   2016-01-04   \n",
       "4   278830   https://www.airbnb.com/rooms/278830  20160104002432   2016-01-04   \n",
       "\n",
       "                                  name  \\\n",
       "0         Stylish Queen Anne Apartment   \n",
       "1   Bright & Airy Queen Anne Apartment   \n",
       "2  New Modern House-Amazing water view   \n",
       "3                   Queen Anne Chateau   \n",
       "4       Charming craftsman 3 bdm house   \n",
       "\n",
       "                                             summary  \\\n",
       "0                                                NaN   \n",
       "1  Chemically sensitive? We've removed the irrita...   \n",
       "2  New modern house built in 2013.  Spectacular s...   \n",
       "3  A charming apartment that sits atop Queen Anne...   \n",
       "4  Cozy family craftman house in beautiful neighb...   \n",
       "\n",
       "                                               space  \\\n",
       "0  Make your self at home in this charming one-be...   \n",
       "1  Beautiful, hypoallergenic apartment in an extr...   \n",
       "2  Our house is modern, light and fresh with a wa...   \n",
       "3                                                NaN   \n",
       "4  Cozy family craftman house in beautiful neighb...   \n",
       "\n",
       "                                         description experiences_offered  \\\n",
       "0  Make your self at home in this charming one-be...                none   \n",
       "1  Chemically sensitive? We've removed the irrita...                none   \n",
       "2  New modern house built in 2013.  Spectacular s...                none   \n",
       "3  A charming apartment that sits atop Queen Anne...                none   \n",
       "4  Cozy family craftman house in beautiful neighb...                none   \n",
       "\n",
       "                               neighborhood_overview  ... review_scores_value  \\\n",
       "0                                                NaN  ...                10.0   \n",
       "1  Queen Anne is a wonderful, truly functional vi...  ...                10.0   \n",
       "2  Upper Queen Anne is a charming neighborhood fu...  ...                10.0   \n",
       "3                                                NaN  ...                 NaN   \n",
       "4  We are in the beautiful neighborhood of Queen ...  ...                 9.0   \n",
       "\n",
       "  requires_license license jurisdiction_names instant_bookable  \\\n",
       "0                f     NaN         WASHINGTON                f   \n",
       "1                f     NaN         WASHINGTON                f   \n",
       "2                f     NaN         WASHINGTON                f   \n",
       "3                f     NaN         WASHINGTON                f   \n",
       "4                f     NaN         WASHINGTON                f   \n",
       "\n",
       "  cancellation_policy  require_guest_profile_picture  \\\n",
       "0            moderate                              f   \n",
       "1              strict                              t   \n",
       "2              strict                              f   \n",
       "3            flexible                              f   \n",
       "4              strict                              f   \n",
       "\n",
       "  require_guest_phone_verification calculated_host_listings_count  \\\n",
       "0                                f                              2   \n",
       "1                                t                              6   \n",
       "2                                f                              2   \n",
       "3                                f                              1   \n",
       "4                                f                              1   \n",
       "\n",
       "  reviews_per_month  \n",
       "0              4.07  \n",
       "1              1.48  \n",
       "2              1.15  \n",
       "3               NaN  \n",
       "4              0.89  \n",
       "\n",
       "[5 rows x 92 columns]"
      ]
     },
     "metadata": {},
     "output_type": "display_data"
    },
    {
     "name": "stdout",
     "output_type": "stream",
     "text": [
      "calendar\n"
     ]
    },
    {
     "data": {
      "text/html": [
       "<div>\n",
       "<style scoped>\n",
       "    .dataframe tbody tr th:only-of-type {\n",
       "        vertical-align: middle;\n",
       "    }\n",
       "\n",
       "    .dataframe tbody tr th {\n",
       "        vertical-align: top;\n",
       "    }\n",
       "\n",
       "    .dataframe thead th {\n",
       "        text-align: right;\n",
       "    }\n",
       "</style>\n",
       "<table border=\"1\" class=\"dataframe\">\n",
       "  <thead>\n",
       "    <tr style=\"text-align: right;\">\n",
       "      <th></th>\n",
       "      <th>listing_id</th>\n",
       "      <th>date</th>\n",
       "      <th>available</th>\n",
       "      <th>price</th>\n",
       "    </tr>\n",
       "  </thead>\n",
       "  <tbody>\n",
       "    <tr>\n",
       "      <th>0</th>\n",
       "      <td>241032</td>\n",
       "      <td>2016-01-04</td>\n",
       "      <td>t</td>\n",
       "      <td>$85.00</td>\n",
       "    </tr>\n",
       "    <tr>\n",
       "      <th>1</th>\n",
       "      <td>241032</td>\n",
       "      <td>2016-01-05</td>\n",
       "      <td>t</td>\n",
       "      <td>$85.00</td>\n",
       "    </tr>\n",
       "    <tr>\n",
       "      <th>2</th>\n",
       "      <td>241032</td>\n",
       "      <td>2016-01-06</td>\n",
       "      <td>f</td>\n",
       "      <td>NaN</td>\n",
       "    </tr>\n",
       "    <tr>\n",
       "      <th>3</th>\n",
       "      <td>241032</td>\n",
       "      <td>2016-01-07</td>\n",
       "      <td>f</td>\n",
       "      <td>NaN</td>\n",
       "    </tr>\n",
       "    <tr>\n",
       "      <th>4</th>\n",
       "      <td>241032</td>\n",
       "      <td>2016-01-08</td>\n",
       "      <td>f</td>\n",
       "      <td>NaN</td>\n",
       "    </tr>\n",
       "  </tbody>\n",
       "</table>\n",
       "</div>"
      ],
      "text/plain": [
       "   listing_id        date available   price\n",
       "0      241032  2016-01-04         t  $85.00\n",
       "1      241032  2016-01-05         t  $85.00\n",
       "2      241032  2016-01-06         f     NaN\n",
       "3      241032  2016-01-07         f     NaN\n",
       "4      241032  2016-01-08         f     NaN"
      ]
     },
     "metadata": {},
     "output_type": "display_data"
    }
   ],
   "source": [
    "from IPython.display import display, HTML\n",
    "print(\"Reviews\")\n",
    "display(HTML(reviews.head(5).to_html()))\n",
    "print(\"listing\")\n",
    "display(listing.head(5))\n",
    "print(\"calendar\")\n",
    "display(cal.head(5))"
   ]
  },
  {
   "cell_type": "markdown",
   "metadata": {},
   "source": [
    "## Data Preparation and Cleaning\n",
    "The dataset 'calendar' has information about the availability and price of the listings on a given day. Since we are not conerned about the time aspect of the listings we will exclude this dataset as clearly both availability and price of a given listing is also present in the 'listing' dataset.\n",
    "<br>Also since we want the features that are relevant to listing price we will exclude features like image_url,listing_url etc."
   ]
  },
  {
   "cell_type": "code",
   "execution_count": 22,
   "metadata": {},
   "outputs": [
    {
     "data": {
      "text/plain": [
       "array(['id', 'listing_url', 'scrape_id', 'last_scraped', 'name',\n",
       "       'summary', 'space', 'description', 'experiences_offered',\n",
       "       'neighborhood_overview', 'notes', 'transit', 'thumbnail_url',\n",
       "       'medium_url', 'picture_url', 'xl_picture_url', 'host_id',\n",
       "       'host_url', 'host_name', 'host_since', 'host_location',\n",
       "       'host_about', 'host_response_time', 'host_response_rate',\n",
       "       'host_acceptance_rate', 'host_is_superhost', 'host_thumbnail_url',\n",
       "       'host_picture_url', 'host_neighbourhood', 'host_listings_count',\n",
       "       'host_total_listings_count', 'host_verifications',\n",
       "       'host_has_profile_pic', 'host_identity_verified', 'street',\n",
       "       'neighbourhood', 'neighbourhood_cleansed',\n",
       "       'neighbourhood_group_cleansed', 'city', 'state', 'zipcode',\n",
       "       'market', 'smart_location', 'country_code', 'country', 'latitude',\n",
       "       'longitude', 'is_location_exact', 'property_type', 'room_type',\n",
       "       'accommodates', 'bathrooms', 'bedrooms', 'beds', 'bed_type',\n",
       "       'amenities', 'square_feet', 'price', 'weekly_price',\n",
       "       'monthly_price', 'security_deposit', 'cleaning_fee',\n",
       "       'guests_included', 'extra_people', 'minimum_nights',\n",
       "       'maximum_nights', 'calendar_updated', 'has_availability',\n",
       "       'availability_30', 'availability_60', 'availability_90',\n",
       "       'availability_365', 'calendar_last_scraped', 'number_of_reviews',\n",
       "       'first_review', 'last_review', 'review_scores_rating',\n",
       "       'review_scores_accuracy', 'review_scores_cleanliness',\n",
       "       'review_scores_checkin', 'review_scores_communication',\n",
       "       'review_scores_location', 'review_scores_value',\n",
       "       'requires_license', 'license', 'jurisdiction_names',\n",
       "       'instant_bookable', 'cancellation_policy',\n",
       "       'require_guest_profile_picture',\n",
       "       'require_guest_phone_verification',\n",
       "       'calculated_host_listings_count', 'reviews_per_month'],\n",
       "      dtype=object)"
      ]
     },
     "metadata": {},
     "output_type": "display_data"
    }
   ],
   "source": [
    "display(listing.columns.values)\n"
   ]
  },
  {
   "cell_type": "code",
   "execution_count": 23,
   "metadata": {},
   "outputs": [],
   "source": [
    "# Following columns are relevant to questions at hand from listing dataset\n",
    "relevant_cols = ['id','host_id','host_response_time', 'host_response_rate',\n",
    "'host_acceptance_rate', 'host_is_superhost', 'host_total_listings_count','host_identity_verified',\n",
    "'neighbourhood', 'property_type', 'room_type','accommodates', 'bathrooms', 'bedrooms', 'beds', 'bed_type',\n",
    "'square_feet', 'price', 'security_deposit', 'cleaning_fee','has_availability',\n",
    "'number_of_reviews', 'review_scores_rating', 'cancellation_policy'\n",
    "]\n",
    "listing_filtered = listing[relevant_cols]"
   ]
  },
  {
   "cell_type": "code",
   "execution_count": 24,
   "metadata": {},
   "outputs": [
    {
     "data": {
      "text/html": [
       "<div>\n",
       "<style scoped>\n",
       "    .dataframe tbody tr th:only-of-type {\n",
       "        vertical-align: middle;\n",
       "    }\n",
       "\n",
       "    .dataframe tbody tr th {\n",
       "        vertical-align: top;\n",
       "    }\n",
       "\n",
       "    .dataframe thead th {\n",
       "        text-align: right;\n",
       "    }\n",
       "</style>\n",
       "<table border=\"1\" class=\"dataframe\">\n",
       "  <thead>\n",
       "    <tr style=\"text-align: right;\">\n",
       "      <th></th>\n",
       "      <th>id</th>\n",
       "      <th>host_id</th>\n",
       "      <th>host_response_time</th>\n",
       "      <th>host_response_rate</th>\n",
       "      <th>host_acceptance_rate</th>\n",
       "      <th>host_is_superhost</th>\n",
       "      <th>host_total_listings_count</th>\n",
       "      <th>host_identity_verified</th>\n",
       "      <th>neighbourhood</th>\n",
       "      <th>property_type</th>\n",
       "      <th>...</th>\n",
       "      <th>beds</th>\n",
       "      <th>bed_type</th>\n",
       "      <th>square_feet</th>\n",
       "      <th>price</th>\n",
       "      <th>security_deposit</th>\n",
       "      <th>cleaning_fee</th>\n",
       "      <th>has_availability</th>\n",
       "      <th>number_of_reviews</th>\n",
       "      <th>review_scores_rating</th>\n",
       "      <th>cancellation_policy</th>\n",
       "    </tr>\n",
       "  </thead>\n",
       "  <tbody>\n",
       "    <tr>\n",
       "      <th>0</th>\n",
       "      <td>241032</td>\n",
       "      <td>956883</td>\n",
       "      <td>within a few hours</td>\n",
       "      <td>96%</td>\n",
       "      <td>100%</td>\n",
       "      <td>f</td>\n",
       "      <td>3.0</td>\n",
       "      <td>t</td>\n",
       "      <td>Queen Anne</td>\n",
       "      <td>Apartment</td>\n",
       "      <td>...</td>\n",
       "      <td>1.0</td>\n",
       "      <td>Real Bed</td>\n",
       "      <td>NaN</td>\n",
       "      <td>$85.00</td>\n",
       "      <td>NaN</td>\n",
       "      <td>NaN</td>\n",
       "      <td>t</td>\n",
       "      <td>207</td>\n",
       "      <td>95.0</td>\n",
       "      <td>moderate</td>\n",
       "    </tr>\n",
       "    <tr>\n",
       "      <th>1</th>\n",
       "      <td>953595</td>\n",
       "      <td>5177328</td>\n",
       "      <td>within an hour</td>\n",
       "      <td>98%</td>\n",
       "      <td>100%</td>\n",
       "      <td>t</td>\n",
       "      <td>6.0</td>\n",
       "      <td>t</td>\n",
       "      <td>Queen Anne</td>\n",
       "      <td>Apartment</td>\n",
       "      <td>...</td>\n",
       "      <td>1.0</td>\n",
       "      <td>Real Bed</td>\n",
       "      <td>NaN</td>\n",
       "      <td>$150.00</td>\n",
       "      <td>$100.00</td>\n",
       "      <td>$40.00</td>\n",
       "      <td>t</td>\n",
       "      <td>43</td>\n",
       "      <td>96.0</td>\n",
       "      <td>strict</td>\n",
       "    </tr>\n",
       "    <tr>\n",
       "      <th>2</th>\n",
       "      <td>3308979</td>\n",
       "      <td>16708587</td>\n",
       "      <td>within a few hours</td>\n",
       "      <td>67%</td>\n",
       "      <td>100%</td>\n",
       "      <td>f</td>\n",
       "      <td>2.0</td>\n",
       "      <td>t</td>\n",
       "      <td>Queen Anne</td>\n",
       "      <td>House</td>\n",
       "      <td>...</td>\n",
       "      <td>7.0</td>\n",
       "      <td>Real Bed</td>\n",
       "      <td>NaN</td>\n",
       "      <td>$975.00</td>\n",
       "      <td>$1,000.00</td>\n",
       "      <td>$300.00</td>\n",
       "      <td>t</td>\n",
       "      <td>20</td>\n",
       "      <td>97.0</td>\n",
       "      <td>strict</td>\n",
       "    </tr>\n",
       "  </tbody>\n",
       "</table>\n",
       "<p>3 rows × 24 columns</p>\n",
       "</div>"
      ],
      "text/plain": [
       "        id   host_id  host_response_time host_response_rate  \\\n",
       "0   241032    956883  within a few hours                96%   \n",
       "1   953595   5177328      within an hour                98%   \n",
       "2  3308979  16708587  within a few hours                67%   \n",
       "\n",
       "  host_acceptance_rate host_is_superhost  host_total_listings_count  \\\n",
       "0                 100%                 f                        3.0   \n",
       "1                 100%                 t                        6.0   \n",
       "2                 100%                 f                        2.0   \n",
       "\n",
       "  host_identity_verified neighbourhood property_type  ... beds  bed_type  \\\n",
       "0                      t    Queen Anne     Apartment  ...  1.0  Real Bed   \n",
       "1                      t    Queen Anne     Apartment  ...  1.0  Real Bed   \n",
       "2                      t    Queen Anne         House  ...  7.0  Real Bed   \n",
       "\n",
       "   square_feet    price  security_deposit cleaning_fee  has_availability  \\\n",
       "0          NaN   $85.00               NaN          NaN                 t   \n",
       "1          NaN  $150.00           $100.00       $40.00                 t   \n",
       "2          NaN  $975.00         $1,000.00      $300.00                 t   \n",
       "\n",
       "  number_of_reviews review_scores_rating cancellation_policy  \n",
       "0               207                 95.0            moderate  \n",
       "1                43                 96.0              strict  \n",
       "2                20                 97.0              strict  \n",
       "\n",
       "[3 rows x 24 columns]"
      ]
     },
     "execution_count": 24,
     "metadata": {},
     "output_type": "execute_result"
    }
   ],
   "source": [
    "listing_filtered.head(3)"
   ]
  },
  {
   "cell_type": "code",
   "execution_count": 25,
   "metadata": {},
   "outputs": [],
   "source": [
    "# As seen some of the columns need cleaning like convert '96%' --> '96' , '$85' --> '85', etc.\n",
    "\n",
    "listing_filtered['host_response_rate'] = listing_filtered['host_response_rate'].apply(lambda x: float(str(x).replace('%','')))\n",
    "listing_filtered['host_acceptance_rate'] = listing_filtered['host_acceptance_rate'].apply(lambda x: float(str(x).replace('%','')))\n",
    "listing_filtered['price'] = listing_filtered['price'].apply(lambda x: float(str(x).replace('$','').replace(',','')))\n",
    "listing_filtered['security_deposit'] = listing_filtered['security_deposit'].apply(lambda x: float(str(x).replace('$','').replace(',','')))\n",
    "listing_filtered['cleaning_fee'] = listing_filtered['cleaning_fee'].apply(lambda x: float(str(x).replace('$','').replace(',','')))\n",
    "\n",
    "\n",
    "\n"
   ]
  },
  {
   "cell_type": "code",
   "execution_count": 26,
   "metadata": {},
   "outputs": [
    {
     "data": {
      "text/html": [
       "<div>\n",
       "<style scoped>\n",
       "    .dataframe tbody tr th:only-of-type {\n",
       "        vertical-align: middle;\n",
       "    }\n",
       "\n",
       "    .dataframe tbody tr th {\n",
       "        vertical-align: top;\n",
       "    }\n",
       "\n",
       "    .dataframe thead th {\n",
       "        text-align: right;\n",
       "    }\n",
       "</style>\n",
       "<table border=\"1\" class=\"dataframe\">\n",
       "  <thead>\n",
       "    <tr style=\"text-align: right;\">\n",
       "      <th></th>\n",
       "      <th>id</th>\n",
       "      <th>host_id</th>\n",
       "      <th>host_response_time</th>\n",
       "      <th>host_response_rate</th>\n",
       "      <th>host_acceptance_rate</th>\n",
       "      <th>host_is_superhost</th>\n",
       "      <th>host_total_listings_count</th>\n",
       "      <th>host_identity_verified</th>\n",
       "      <th>neighbourhood</th>\n",
       "      <th>property_type</th>\n",
       "      <th>...</th>\n",
       "      <th>beds</th>\n",
       "      <th>bed_type</th>\n",
       "      <th>square_feet</th>\n",
       "      <th>price</th>\n",
       "      <th>security_deposit</th>\n",
       "      <th>cleaning_fee</th>\n",
       "      <th>has_availability</th>\n",
       "      <th>number_of_reviews</th>\n",
       "      <th>review_scores_rating</th>\n",
       "      <th>cancellation_policy</th>\n",
       "    </tr>\n",
       "  </thead>\n",
       "  <tbody>\n",
       "    <tr>\n",
       "      <th>0</th>\n",
       "      <td>241032</td>\n",
       "      <td>956883</td>\n",
       "      <td>within a few hours</td>\n",
       "      <td>96.0</td>\n",
       "      <td>100.0</td>\n",
       "      <td>f</td>\n",
       "      <td>3.0</td>\n",
       "      <td>t</td>\n",
       "      <td>Queen Anne</td>\n",
       "      <td>Apartment</td>\n",
       "      <td>...</td>\n",
       "      <td>1.0</td>\n",
       "      <td>Real Bed</td>\n",
       "      <td>NaN</td>\n",
       "      <td>85.0</td>\n",
       "      <td>NaN</td>\n",
       "      <td>NaN</td>\n",
       "      <td>t</td>\n",
       "      <td>207</td>\n",
       "      <td>95.0</td>\n",
       "      <td>moderate</td>\n",
       "    </tr>\n",
       "    <tr>\n",
       "      <th>1</th>\n",
       "      <td>953595</td>\n",
       "      <td>5177328</td>\n",
       "      <td>within an hour</td>\n",
       "      <td>98.0</td>\n",
       "      <td>100.0</td>\n",
       "      <td>t</td>\n",
       "      <td>6.0</td>\n",
       "      <td>t</td>\n",
       "      <td>Queen Anne</td>\n",
       "      <td>Apartment</td>\n",
       "      <td>...</td>\n",
       "      <td>1.0</td>\n",
       "      <td>Real Bed</td>\n",
       "      <td>NaN</td>\n",
       "      <td>150.0</td>\n",
       "      <td>100.0</td>\n",
       "      <td>40.0</td>\n",
       "      <td>t</td>\n",
       "      <td>43</td>\n",
       "      <td>96.0</td>\n",
       "      <td>strict</td>\n",
       "    </tr>\n",
       "    <tr>\n",
       "      <th>2</th>\n",
       "      <td>3308979</td>\n",
       "      <td>16708587</td>\n",
       "      <td>within a few hours</td>\n",
       "      <td>67.0</td>\n",
       "      <td>100.0</td>\n",
       "      <td>f</td>\n",
       "      <td>2.0</td>\n",
       "      <td>t</td>\n",
       "      <td>Queen Anne</td>\n",
       "      <td>House</td>\n",
       "      <td>...</td>\n",
       "      <td>7.0</td>\n",
       "      <td>Real Bed</td>\n",
       "      <td>NaN</td>\n",
       "      <td>975.0</td>\n",
       "      <td>1000.0</td>\n",
       "      <td>300.0</td>\n",
       "      <td>t</td>\n",
       "      <td>20</td>\n",
       "      <td>97.0</td>\n",
       "      <td>strict</td>\n",
       "    </tr>\n",
       "  </tbody>\n",
       "</table>\n",
       "<p>3 rows × 24 columns</p>\n",
       "</div>"
      ],
      "text/plain": [
       "        id   host_id  host_response_time  host_response_rate  \\\n",
       "0   241032    956883  within a few hours                96.0   \n",
       "1   953595   5177328      within an hour                98.0   \n",
       "2  3308979  16708587  within a few hours                67.0   \n",
       "\n",
       "   host_acceptance_rate host_is_superhost  host_total_listings_count  \\\n",
       "0                 100.0                 f                        3.0   \n",
       "1                 100.0                 t                        6.0   \n",
       "2                 100.0                 f                        2.0   \n",
       "\n",
       "  host_identity_verified neighbourhood property_type  ... beds  bed_type  \\\n",
       "0                      t    Queen Anne     Apartment  ...  1.0  Real Bed   \n",
       "1                      t    Queen Anne     Apartment  ...  1.0  Real Bed   \n",
       "2                      t    Queen Anne         House  ...  7.0  Real Bed   \n",
       "\n",
       "   square_feet  price  security_deposit cleaning_fee  has_availability  \\\n",
       "0          NaN   85.0               NaN          NaN                 t   \n",
       "1          NaN  150.0             100.0         40.0                 t   \n",
       "2          NaN  975.0            1000.0        300.0                 t   \n",
       "\n",
       "   number_of_reviews  review_scores_rating  cancellation_policy  \n",
       "0                207                  95.0             moderate  \n",
       "1                 43                  96.0               strict  \n",
       "2                 20                  97.0               strict  \n",
       "\n",
       "[3 rows x 24 columns]"
      ]
     },
     "execution_count": 26,
     "metadata": {},
     "output_type": "execute_result"
    }
   ],
   "source": [
    "listing_filtered.head(3)"
   ]
  },
  {
   "cell_type": "code",
   "execution_count": 27,
   "metadata": {},
   "outputs": [
    {
     "data": {
      "text/plain": [
       "id                             int64\n",
       "host_id                        int64\n",
       "host_response_time            object\n",
       "host_response_rate           float64\n",
       "host_acceptance_rate         float64\n",
       "host_is_superhost             object\n",
       "host_total_listings_count    float64\n",
       "host_identity_verified        object\n",
       "neighbourhood                 object\n",
       "property_type                 object\n",
       "room_type                     object\n",
       "accommodates                   int64\n",
       "bathrooms                    float64\n",
       "bedrooms                     float64\n",
       "beds                         float64\n",
       "bed_type                      object\n",
       "square_feet                  float64\n",
       "price                        float64\n",
       "security_deposit             float64\n",
       "cleaning_fee                 float64\n",
       "has_availability              object\n",
       "number_of_reviews              int64\n",
       "review_scores_rating         float64\n",
       "cancellation_policy           object\n",
       "dtype: object"
      ]
     },
     "execution_count": 27,
     "metadata": {},
     "output_type": "execute_result"
    }
   ],
   "source": [
    "#checking which of the columns are categorical and which are numerical columns\n",
    "listing_filtered.dtypes"
   ]
  },
  {
   "cell_type": "markdown",
   "metadata": {},
   "source": [
    "## Question 1\n",
    "What are the top five highly rated hosts? Are all of them superhosts?\n",
    "<br> As seen from the data the criteria of highly rated hosts should involve both number of reviews as well as the rating. If we see closely we see rating is missing for those records where number of reviews is zero. We may need to take care of the missing values first."
   ]
  },
  {
   "cell_type": "code",
   "execution_count": 28,
   "metadata": {},
   "outputs": [],
   "source": [
    "def fill_rating(x):\n",
    "    '''\n",
    "    Setting value of review_score_rating to zero\n",
    "    for every zero number of reviews.\n",
    "    \n",
    "    '''\n",
    "    if x['number_of_reviews'] == 0:\n",
    "        x['review_scores_rating']=0\n",
    "    return x\n",
    "listing_filtered = listing_filtered.apply(lambda x : fill_rating(x), axis=1)"
   ]
  },
  {
   "cell_type": "code",
   "execution_count": 29,
   "metadata": {},
   "outputs": [
    {
     "data": {
      "text/plain": [
       "id                              0\n",
       "host_id                         0\n",
       "host_response_time            523\n",
       "host_response_rate            523\n",
       "host_acceptance_rate          773\n",
       "host_is_superhost               2\n",
       "host_total_listings_count       2\n",
       "host_identity_verified          2\n",
       "neighbourhood                 416\n",
       "property_type                   1\n",
       "room_type                       0\n",
       "accommodates                    0\n",
       "bathrooms                      16\n",
       "bedrooms                        6\n",
       "beds                            1\n",
       "bed_type                        0\n",
       "square_feet                  3721\n",
       "price                           0\n",
       "security_deposit             1952\n",
       "cleaning_fee                 1030\n",
       "has_availability                0\n",
       "number_of_reviews               0\n",
       "review_scores_rating           20\n",
       "cancellation_policy             0\n",
       "dtype: int64"
      ]
     },
     "execution_count": 29,
     "metadata": {},
     "output_type": "execute_result"
    }
   ],
   "source": [
    "listing_filtered.isna().sum()"
   ]
  },
  {
   "cell_type": "code",
   "execution_count": 30,
   "metadata": {},
   "outputs": [],
   "source": [
    "#As seen from above we still have 20 missing values in ratings lets find out those\n",
    "lf = listing_filtered.copy(deep=True)\n",
    "lf['review_scores_rating'] = lf['review_scores_rating'].fillna('Missing')"
   ]
  },
  {
   "cell_type": "code",
   "execution_count": 31,
   "metadata": {},
   "outputs": [
    {
     "data": {
      "text/html": [
       "<div>\n",
       "<style scoped>\n",
       "    .dataframe tbody tr th:only-of-type {\n",
       "        vertical-align: middle;\n",
       "    }\n",
       "\n",
       "    .dataframe tbody tr th {\n",
       "        vertical-align: top;\n",
       "    }\n",
       "\n",
       "    .dataframe thead th {\n",
       "        text-align: right;\n",
       "    }\n",
       "</style>\n",
       "<table border=\"1\" class=\"dataframe\">\n",
       "  <thead>\n",
       "    <tr style=\"text-align: right;\">\n",
       "      <th></th>\n",
       "      <th>id</th>\n",
       "      <th>host_id</th>\n",
       "      <th>host_response_time</th>\n",
       "      <th>host_response_rate</th>\n",
       "      <th>host_acceptance_rate</th>\n",
       "      <th>host_is_superhost</th>\n",
       "      <th>host_total_listings_count</th>\n",
       "      <th>host_identity_verified</th>\n",
       "      <th>neighbourhood</th>\n",
       "      <th>property_type</th>\n",
       "      <th>...</th>\n",
       "      <th>beds</th>\n",
       "      <th>bed_type</th>\n",
       "      <th>square_feet</th>\n",
       "      <th>price</th>\n",
       "      <th>security_deposit</th>\n",
       "      <th>cleaning_fee</th>\n",
       "      <th>has_availability</th>\n",
       "      <th>number_of_reviews</th>\n",
       "      <th>review_scores_rating</th>\n",
       "      <th>cancellation_policy</th>\n",
       "    </tr>\n",
       "  </thead>\n",
       "  <tbody>\n",
       "    <tr>\n",
       "      <th>204</th>\n",
       "      <td>9028447</td>\n",
       "      <td>2704826</td>\n",
       "      <td>within a few hours</td>\n",
       "      <td>80.0</td>\n",
       "      <td>100.0</td>\n",
       "      <td>f</td>\n",
       "      <td>1.0</td>\n",
       "      <td>f</td>\n",
       "      <td>NaN</td>\n",
       "      <td>Apartment</td>\n",
       "      <td>...</td>\n",
       "      <td>1.0</td>\n",
       "      <td>Real Bed</td>\n",
       "      <td>NaN</td>\n",
       "      <td>100.0</td>\n",
       "      <td>NaN</td>\n",
       "      <td>NaN</td>\n",
       "      <td>t</td>\n",
       "      <td>1</td>\n",
       "      <td>Missing</td>\n",
       "      <td>moderate</td>\n",
       "    </tr>\n",
       "    <tr>\n",
       "      <th>283</th>\n",
       "      <td>5336585</td>\n",
       "      <td>27656377</td>\n",
       "      <td>NaN</td>\n",
       "      <td>NaN</td>\n",
       "      <td>NaN</td>\n",
       "      <td>f</td>\n",
       "      <td>1.0</td>\n",
       "      <td>t</td>\n",
       "      <td>Wallingford</td>\n",
       "      <td>Loft</td>\n",
       "      <td>...</td>\n",
       "      <td>1.0</td>\n",
       "      <td>Real Bed</td>\n",
       "      <td>NaN</td>\n",
       "      <td>75.0</td>\n",
       "      <td>NaN</td>\n",
       "      <td>NaN</td>\n",
       "      <td>t</td>\n",
       "      <td>1</td>\n",
       "      <td>Missing</td>\n",
       "      <td>flexible</td>\n",
       "    </tr>\n",
       "    <tr>\n",
       "      <th>361</th>\n",
       "      <td>8207848</td>\n",
       "      <td>31148752</td>\n",
       "      <td>within a few hours</td>\n",
       "      <td>99.0</td>\n",
       "      <td>100.0</td>\n",
       "      <td>f</td>\n",
       "      <td>354.0</td>\n",
       "      <td>t</td>\n",
       "      <td>Fremont</td>\n",
       "      <td>Apartment</td>\n",
       "      <td>...</td>\n",
       "      <td>2.0</td>\n",
       "      <td>Real Bed</td>\n",
       "      <td>NaN</td>\n",
       "      <td>259.0</td>\n",
       "      <td>NaN</td>\n",
       "      <td>155.0</td>\n",
       "      <td>t</td>\n",
       "      <td>1</td>\n",
       "      <td>Missing</td>\n",
       "      <td>strict</td>\n",
       "    </tr>\n",
       "    <tr>\n",
       "      <th>482</th>\n",
       "      <td>186328</td>\n",
       "      <td>895223</td>\n",
       "      <td>NaN</td>\n",
       "      <td>NaN</td>\n",
       "      <td>NaN</td>\n",
       "      <td>f</td>\n",
       "      <td>1.0</td>\n",
       "      <td>t</td>\n",
       "      <td>Queen Anne</td>\n",
       "      <td>House</td>\n",
       "      <td>...</td>\n",
       "      <td>2.0</td>\n",
       "      <td>Real Bed</td>\n",
       "      <td>NaN</td>\n",
       "      <td>250.0</td>\n",
       "      <td>100.0</td>\n",
       "      <td>100.0</td>\n",
       "      <td>t</td>\n",
       "      <td>1</td>\n",
       "      <td>Missing</td>\n",
       "      <td>strict</td>\n",
       "    </tr>\n",
       "    <tr>\n",
       "      <th>527</th>\n",
       "      <td>790860</td>\n",
       "      <td>4186082</td>\n",
       "      <td>NaN</td>\n",
       "      <td>NaN</td>\n",
       "      <td>NaN</td>\n",
       "      <td>f</td>\n",
       "      <td>1.0</td>\n",
       "      <td>f</td>\n",
       "      <td>Green Lake</td>\n",
       "      <td>Apartment</td>\n",
       "      <td>...</td>\n",
       "      <td>1.0</td>\n",
       "      <td>Real Bed</td>\n",
       "      <td>NaN</td>\n",
       "      <td>450.0</td>\n",
       "      <td>500.0</td>\n",
       "      <td>250.0</td>\n",
       "      <td>t</td>\n",
       "      <td>1</td>\n",
       "      <td>Missing</td>\n",
       "      <td>moderate</td>\n",
       "    </tr>\n",
       "    <tr>\n",
       "      <th>774</th>\n",
       "      <td>7536074</td>\n",
       "      <td>39485528</td>\n",
       "      <td>within an hour</td>\n",
       "      <td>100.0</td>\n",
       "      <td>100.0</td>\n",
       "      <td>f</td>\n",
       "      <td>1.0</td>\n",
       "      <td>t</td>\n",
       "      <td>University District</td>\n",
       "      <td>Apartment</td>\n",
       "      <td>...</td>\n",
       "      <td>2.0</td>\n",
       "      <td>Real Bed</td>\n",
       "      <td>NaN</td>\n",
       "      <td>185.0</td>\n",
       "      <td>NaN</td>\n",
       "      <td>NaN</td>\n",
       "      <td>t</td>\n",
       "      <td>1</td>\n",
       "      <td>Missing</td>\n",
       "      <td>flexible</td>\n",
       "    </tr>\n",
       "    <tr>\n",
       "      <th>804</th>\n",
       "      <td>7807658</td>\n",
       "      <td>41099211</td>\n",
       "      <td>within a day</td>\n",
       "      <td>100.0</td>\n",
       "      <td>NaN</td>\n",
       "      <td>f</td>\n",
       "      <td>1.0</td>\n",
       "      <td>t</td>\n",
       "      <td>University District</td>\n",
       "      <td>Apartment</td>\n",
       "      <td>...</td>\n",
       "      <td>2.0</td>\n",
       "      <td>Real Bed</td>\n",
       "      <td>NaN</td>\n",
       "      <td>118.0</td>\n",
       "      <td>NaN</td>\n",
       "      <td>NaN</td>\n",
       "      <td>t</td>\n",
       "      <td>1</td>\n",
       "      <td>Missing</td>\n",
       "      <td>flexible</td>\n",
       "    </tr>\n",
       "    <tr>\n",
       "      <th>1024</th>\n",
       "      <td>8103432</td>\n",
       "      <td>2405911</td>\n",
       "      <td>within a day</td>\n",
       "      <td>75.0</td>\n",
       "      <td>100.0</td>\n",
       "      <td>f</td>\n",
       "      <td>1.0</td>\n",
       "      <td>t</td>\n",
       "      <td>Atlantic</td>\n",
       "      <td>House</td>\n",
       "      <td>...</td>\n",
       "      <td>2.0</td>\n",
       "      <td>Real Bed</td>\n",
       "      <td>NaN</td>\n",
       "      <td>140.0</td>\n",
       "      <td>NaN</td>\n",
       "      <td>50.0</td>\n",
       "      <td>t</td>\n",
       "      <td>1</td>\n",
       "      <td>Missing</td>\n",
       "      <td>strict</td>\n",
       "    </tr>\n",
       "    <tr>\n",
       "      <th>1457</th>\n",
       "      <td>9012948</td>\n",
       "      <td>3954802</td>\n",
       "      <td>within a day</td>\n",
       "      <td>100.0</td>\n",
       "      <td>100.0</td>\n",
       "      <td>f</td>\n",
       "      <td>1.0</td>\n",
       "      <td>t</td>\n",
       "      <td>NaN</td>\n",
       "      <td>Apartment</td>\n",
       "      <td>...</td>\n",
       "      <td>1.0</td>\n",
       "      <td>Real Bed</td>\n",
       "      <td>NaN</td>\n",
       "      <td>130.0</td>\n",
       "      <td>NaN</td>\n",
       "      <td>NaN</td>\n",
       "      <td>t</td>\n",
       "      <td>1</td>\n",
       "      <td>Missing</td>\n",
       "      <td>flexible</td>\n",
       "    </tr>\n",
       "    <tr>\n",
       "      <th>1702</th>\n",
       "      <td>8338155</td>\n",
       "      <td>41925688</td>\n",
       "      <td>within an hour</td>\n",
       "      <td>100.0</td>\n",
       "      <td>100.0</td>\n",
       "      <td>f</td>\n",
       "      <td>1.0</td>\n",
       "      <td>t</td>\n",
       "      <td>First Hill</td>\n",
       "      <td>Apartment</td>\n",
       "      <td>...</td>\n",
       "      <td>1.0</td>\n",
       "      <td>Real Bed</td>\n",
       "      <td>NaN</td>\n",
       "      <td>65.0</td>\n",
       "      <td>NaN</td>\n",
       "      <td>35.0</td>\n",
       "      <td>t</td>\n",
       "      <td>1</td>\n",
       "      <td>Missing</td>\n",
       "      <td>moderate</td>\n",
       "    </tr>\n",
       "    <tr>\n",
       "      <th>1766</th>\n",
       "      <td>4887845</td>\n",
       "      <td>21574650</td>\n",
       "      <td>within an hour</td>\n",
       "      <td>100.0</td>\n",
       "      <td>100.0</td>\n",
       "      <td>f</td>\n",
       "      <td>2.0</td>\n",
       "      <td>t</td>\n",
       "      <td>Alki</td>\n",
       "      <td>House</td>\n",
       "      <td>...</td>\n",
       "      <td>5.0</td>\n",
       "      <td>Real Bed</td>\n",
       "      <td>NaN</td>\n",
       "      <td>235.0</td>\n",
       "      <td>NaN</td>\n",
       "      <td>149.0</td>\n",
       "      <td>t</td>\n",
       "      <td>1</td>\n",
       "      <td>Missing</td>\n",
       "      <td>moderate</td>\n",
       "    </tr>\n",
       "    <tr>\n",
       "      <th>1863</th>\n",
       "      <td>692080</td>\n",
       "      <td>205325</td>\n",
       "      <td>NaN</td>\n",
       "      <td>NaN</td>\n",
       "      <td>NaN</td>\n",
       "      <td>f</td>\n",
       "      <td>3.0</td>\n",
       "      <td>t</td>\n",
       "      <td>Fairmount Park</td>\n",
       "      <td>House</td>\n",
       "      <td>...</td>\n",
       "      <td>1.0</td>\n",
       "      <td>Real Bed</td>\n",
       "      <td>3000.0</td>\n",
       "      <td>370.0</td>\n",
       "      <td>600.0</td>\n",
       "      <td>200.0</td>\n",
       "      <td>t</td>\n",
       "      <td>1</td>\n",
       "      <td>Missing</td>\n",
       "      <td>strict</td>\n",
       "    </tr>\n",
       "    <tr>\n",
       "      <th>2493</th>\n",
       "      <td>3126153</td>\n",
       "      <td>9207095</td>\n",
       "      <td>within an hour</td>\n",
       "      <td>86.0</td>\n",
       "      <td>100.0</td>\n",
       "      <td>f</td>\n",
       "      <td>8.0</td>\n",
       "      <td>t</td>\n",
       "      <td>Ravenna</td>\n",
       "      <td>House</td>\n",
       "      <td>...</td>\n",
       "      <td>1.0</td>\n",
       "      <td>Real Bed</td>\n",
       "      <td>NaN</td>\n",
       "      <td>115.0</td>\n",
       "      <td>300.0</td>\n",
       "      <td>100.0</td>\n",
       "      <td>t</td>\n",
       "      <td>1</td>\n",
       "      <td>Missing</td>\n",
       "      <td>strict</td>\n",
       "    </tr>\n",
       "    <tr>\n",
       "      <th>2870</th>\n",
       "      <td>7614244</td>\n",
       "      <td>900531</td>\n",
       "      <td>within a day</td>\n",
       "      <td>100.0</td>\n",
       "      <td>100.0</td>\n",
       "      <td>f</td>\n",
       "      <td>2.0</td>\n",
       "      <td>t</td>\n",
       "      <td>Capitol Hill</td>\n",
       "      <td>Apartment</td>\n",
       "      <td>...</td>\n",
       "      <td>2.0</td>\n",
       "      <td>Real Bed</td>\n",
       "      <td>NaN</td>\n",
       "      <td>105.0</td>\n",
       "      <td>NaN</td>\n",
       "      <td>NaN</td>\n",
       "      <td>t</td>\n",
       "      <td>1</td>\n",
       "      <td>Missing</td>\n",
       "      <td>flexible</td>\n",
       "    </tr>\n",
       "    <tr>\n",
       "      <th>2946</th>\n",
       "      <td>7874053</td>\n",
       "      <td>41500170</td>\n",
       "      <td>NaN</td>\n",
       "      <td>NaN</td>\n",
       "      <td>NaN</td>\n",
       "      <td>f</td>\n",
       "      <td>1.0</td>\n",
       "      <td>f</td>\n",
       "      <td>Capitol Hill</td>\n",
       "      <td>Townhouse</td>\n",
       "      <td>...</td>\n",
       "      <td>2.0</td>\n",
       "      <td>Real Bed</td>\n",
       "      <td>NaN</td>\n",
       "      <td>250.0</td>\n",
       "      <td>NaN</td>\n",
       "      <td>NaN</td>\n",
       "      <td>t</td>\n",
       "      <td>1</td>\n",
       "      <td>Missing</td>\n",
       "      <td>flexible</td>\n",
       "    </tr>\n",
       "    <tr>\n",
       "      <th>3307</th>\n",
       "      <td>7969698</td>\n",
       "      <td>15312585</td>\n",
       "      <td>within a few hours</td>\n",
       "      <td>100.0</td>\n",
       "      <td>100.0</td>\n",
       "      <td>f</td>\n",
       "      <td>2.0</td>\n",
       "      <td>t</td>\n",
       "      <td>NaN</td>\n",
       "      <td>Townhouse</td>\n",
       "      <td>...</td>\n",
       "      <td>2.0</td>\n",
       "      <td>Real Bed</td>\n",
       "      <td>NaN</td>\n",
       "      <td>97.0</td>\n",
       "      <td>NaN</td>\n",
       "      <td>15.0</td>\n",
       "      <td>t</td>\n",
       "      <td>1</td>\n",
       "      <td>Missing</td>\n",
       "      <td>moderate</td>\n",
       "    </tr>\n",
       "    <tr>\n",
       "      <th>3671</th>\n",
       "      <td>6392029</td>\n",
       "      <td>7719433</td>\n",
       "      <td>NaN</td>\n",
       "      <td>NaN</td>\n",
       "      <td>NaN</td>\n",
       "      <td>f</td>\n",
       "      <td>1.0</td>\n",
       "      <td>t</td>\n",
       "      <td>Fremont</td>\n",
       "      <td>Apartment</td>\n",
       "      <td>...</td>\n",
       "      <td>2.0</td>\n",
       "      <td>Real Bed</td>\n",
       "      <td>NaN</td>\n",
       "      <td>136.0</td>\n",
       "      <td>NaN</td>\n",
       "      <td>NaN</td>\n",
       "      <td>t</td>\n",
       "      <td>1</td>\n",
       "      <td>Missing</td>\n",
       "      <td>flexible</td>\n",
       "    </tr>\n",
       "    <tr>\n",
       "      <th>3709</th>\n",
       "      <td>8080939</td>\n",
       "      <td>11299221</td>\n",
       "      <td>within an hour</td>\n",
       "      <td>92.0</td>\n",
       "      <td>100.0</td>\n",
       "      <td>f</td>\n",
       "      <td>4.0</td>\n",
       "      <td>t</td>\n",
       "      <td>NaN</td>\n",
       "      <td>Apartment</td>\n",
       "      <td>...</td>\n",
       "      <td>3.0</td>\n",
       "      <td>Real Bed</td>\n",
       "      <td>NaN</td>\n",
       "      <td>200.0</td>\n",
       "      <td>300.0</td>\n",
       "      <td>85.0</td>\n",
       "      <td>t</td>\n",
       "      <td>1</td>\n",
       "      <td>Missing</td>\n",
       "      <td>strict</td>\n",
       "    </tr>\n",
       "    <tr>\n",
       "      <th>3722</th>\n",
       "      <td>5902452</td>\n",
       "      <td>30221395</td>\n",
       "      <td>NaN</td>\n",
       "      <td>NaN</td>\n",
       "      <td>NaN</td>\n",
       "      <td>f</td>\n",
       "      <td>1.0</td>\n",
       "      <td>t</td>\n",
       "      <td>Fremont</td>\n",
       "      <td>House</td>\n",
       "      <td>...</td>\n",
       "      <td>1.0</td>\n",
       "      <td>Real Bed</td>\n",
       "      <td>NaN</td>\n",
       "      <td>150.0</td>\n",
       "      <td>250.0</td>\n",
       "      <td>40.0</td>\n",
       "      <td>t</td>\n",
       "      <td>1</td>\n",
       "      <td>Missing</td>\n",
       "      <td>moderate</td>\n",
       "    </tr>\n",
       "    <tr>\n",
       "      <th>3766</th>\n",
       "      <td>6043482</td>\n",
       "      <td>4694909</td>\n",
       "      <td>NaN</td>\n",
       "      <td>NaN</td>\n",
       "      <td>NaN</td>\n",
       "      <td>f</td>\n",
       "      <td>1.0</td>\n",
       "      <td>t</td>\n",
       "      <td>Fremont</td>\n",
       "      <td>Apartment</td>\n",
       "      <td>...</td>\n",
       "      <td>1.0</td>\n",
       "      <td>Real Bed</td>\n",
       "      <td>NaN</td>\n",
       "      <td>50.0</td>\n",
       "      <td>NaN</td>\n",
       "      <td>NaN</td>\n",
       "      <td>t</td>\n",
       "      <td>1</td>\n",
       "      <td>Missing</td>\n",
       "      <td>flexible</td>\n",
       "    </tr>\n",
       "  </tbody>\n",
       "</table>\n",
       "<p>20 rows × 24 columns</p>\n",
       "</div>"
      ],
      "text/plain": [
       "           id   host_id  host_response_time  host_response_rate  \\\n",
       "204   9028447   2704826  within a few hours                80.0   \n",
       "283   5336585  27656377                 NaN                 NaN   \n",
       "361   8207848  31148752  within a few hours                99.0   \n",
       "482    186328    895223                 NaN                 NaN   \n",
       "527    790860   4186082                 NaN                 NaN   \n",
       "774   7536074  39485528      within an hour               100.0   \n",
       "804   7807658  41099211        within a day               100.0   \n",
       "1024  8103432   2405911        within a day                75.0   \n",
       "1457  9012948   3954802        within a day               100.0   \n",
       "1702  8338155  41925688      within an hour               100.0   \n",
       "1766  4887845  21574650      within an hour               100.0   \n",
       "1863   692080    205325                 NaN                 NaN   \n",
       "2493  3126153   9207095      within an hour                86.0   \n",
       "2870  7614244    900531        within a day               100.0   \n",
       "2946  7874053  41500170                 NaN                 NaN   \n",
       "3307  7969698  15312585  within a few hours               100.0   \n",
       "3671  6392029   7719433                 NaN                 NaN   \n",
       "3709  8080939  11299221      within an hour                92.0   \n",
       "3722  5902452  30221395                 NaN                 NaN   \n",
       "3766  6043482   4694909                 NaN                 NaN   \n",
       "\n",
       "      host_acceptance_rate host_is_superhost  host_total_listings_count  \\\n",
       "204                  100.0                 f                        1.0   \n",
       "283                    NaN                 f                        1.0   \n",
       "361                  100.0                 f                      354.0   \n",
       "482                    NaN                 f                        1.0   \n",
       "527                    NaN                 f                        1.0   \n",
       "774                  100.0                 f                        1.0   \n",
       "804                    NaN                 f                        1.0   \n",
       "1024                 100.0                 f                        1.0   \n",
       "1457                 100.0                 f                        1.0   \n",
       "1702                 100.0                 f                        1.0   \n",
       "1766                 100.0                 f                        2.0   \n",
       "1863                   NaN                 f                        3.0   \n",
       "2493                 100.0                 f                        8.0   \n",
       "2870                 100.0                 f                        2.0   \n",
       "2946                   NaN                 f                        1.0   \n",
       "3307                 100.0                 f                        2.0   \n",
       "3671                   NaN                 f                        1.0   \n",
       "3709                 100.0                 f                        4.0   \n",
       "3722                   NaN                 f                        1.0   \n",
       "3766                   NaN                 f                        1.0   \n",
       "\n",
       "     host_identity_verified        neighbourhood property_type  ... beds  \\\n",
       "204                       f                  NaN     Apartment  ...  1.0   \n",
       "283                       t          Wallingford          Loft  ...  1.0   \n",
       "361                       t              Fremont     Apartment  ...  2.0   \n",
       "482                       t           Queen Anne         House  ...  2.0   \n",
       "527                       f           Green Lake     Apartment  ...  1.0   \n",
       "774                       t  University District     Apartment  ...  2.0   \n",
       "804                       t  University District     Apartment  ...  2.0   \n",
       "1024                      t             Atlantic         House  ...  2.0   \n",
       "1457                      t                  NaN     Apartment  ...  1.0   \n",
       "1702                      t           First Hill     Apartment  ...  1.0   \n",
       "1766                      t                 Alki         House  ...  5.0   \n",
       "1863                      t       Fairmount Park         House  ...  1.0   \n",
       "2493                      t              Ravenna         House  ...  1.0   \n",
       "2870                      t         Capitol Hill     Apartment  ...  2.0   \n",
       "2946                      f         Capitol Hill     Townhouse  ...  2.0   \n",
       "3307                      t                  NaN     Townhouse  ...  2.0   \n",
       "3671                      t              Fremont     Apartment  ...  2.0   \n",
       "3709                      t                  NaN     Apartment  ...  3.0   \n",
       "3722                      t              Fremont         House  ...  1.0   \n",
       "3766                      t              Fremont     Apartment  ...  1.0   \n",
       "\n",
       "      bed_type  square_feet  price  security_deposit cleaning_fee  \\\n",
       "204   Real Bed          NaN  100.0               NaN          NaN   \n",
       "283   Real Bed          NaN   75.0               NaN          NaN   \n",
       "361   Real Bed          NaN  259.0               NaN        155.0   \n",
       "482   Real Bed          NaN  250.0             100.0        100.0   \n",
       "527   Real Bed          NaN  450.0             500.0        250.0   \n",
       "774   Real Bed          NaN  185.0               NaN          NaN   \n",
       "804   Real Bed          NaN  118.0               NaN          NaN   \n",
       "1024  Real Bed          NaN  140.0               NaN         50.0   \n",
       "1457  Real Bed          NaN  130.0               NaN          NaN   \n",
       "1702  Real Bed          NaN   65.0               NaN         35.0   \n",
       "1766  Real Bed          NaN  235.0               NaN        149.0   \n",
       "1863  Real Bed       3000.0  370.0             600.0        200.0   \n",
       "2493  Real Bed          NaN  115.0             300.0        100.0   \n",
       "2870  Real Bed          NaN  105.0               NaN          NaN   \n",
       "2946  Real Bed          NaN  250.0               NaN          NaN   \n",
       "3307  Real Bed          NaN   97.0               NaN         15.0   \n",
       "3671  Real Bed          NaN  136.0               NaN          NaN   \n",
       "3709  Real Bed          NaN  200.0             300.0         85.0   \n",
       "3722  Real Bed          NaN  150.0             250.0         40.0   \n",
       "3766  Real Bed          NaN   50.0               NaN          NaN   \n",
       "\n",
       "      has_availability  number_of_reviews  review_scores_rating  \\\n",
       "204                  t                  1               Missing   \n",
       "283                  t                  1               Missing   \n",
       "361                  t                  1               Missing   \n",
       "482                  t                  1               Missing   \n",
       "527                  t                  1               Missing   \n",
       "774                  t                  1               Missing   \n",
       "804                  t                  1               Missing   \n",
       "1024                 t                  1               Missing   \n",
       "1457                 t                  1               Missing   \n",
       "1702                 t                  1               Missing   \n",
       "1766                 t                  1               Missing   \n",
       "1863                 t                  1               Missing   \n",
       "2493                 t                  1               Missing   \n",
       "2870                 t                  1               Missing   \n",
       "2946                 t                  1               Missing   \n",
       "3307                 t                  1               Missing   \n",
       "3671                 t                  1               Missing   \n",
       "3709                 t                  1               Missing   \n",
       "3722                 t                  1               Missing   \n",
       "3766                 t                  1               Missing   \n",
       "\n",
       "      cancellation_policy  \n",
       "204              moderate  \n",
       "283              flexible  \n",
       "361                strict  \n",
       "482                strict  \n",
       "527              moderate  \n",
       "774              flexible  \n",
       "804              flexible  \n",
       "1024               strict  \n",
       "1457             flexible  \n",
       "1702             moderate  \n",
       "1766             moderate  \n",
       "1863               strict  \n",
       "2493               strict  \n",
       "2870             flexible  \n",
       "2946             flexible  \n",
       "3307             moderate  \n",
       "3671             flexible  \n",
       "3709               strict  \n",
       "3722             moderate  \n",
       "3766             flexible  \n",
       "\n",
       "[20 rows x 24 columns]"
      ]
     },
     "execution_count": 31,
     "metadata": {},
     "output_type": "execute_result"
    }
   ],
   "source": [
    "lf[lf['review_scores_rating']=='Missing']"
   ]
  },
  {
   "cell_type": "code",
   "execution_count": 32,
   "metadata": {},
   "outputs": [
    {
     "data": {
      "text/plain": [
       "id                              0\n",
       "host_id                         0\n",
       "host_response_time            523\n",
       "host_response_rate            523\n",
       "host_acceptance_rate          773\n",
       "host_is_superhost               2\n",
       "host_total_listings_count       2\n",
       "host_identity_verified          2\n",
       "neighbourhood                 416\n",
       "property_type                   1\n",
       "room_type                       0\n",
       "accommodates                    0\n",
       "bathrooms                      16\n",
       "bedrooms                        6\n",
       "beds                            1\n",
       "bed_type                        0\n",
       "square_feet                  3721\n",
       "price                           0\n",
       "security_deposit             1952\n",
       "cleaning_fee                 1030\n",
       "has_availability                0\n",
       "number_of_reviews               0\n",
       "review_scores_rating            0\n",
       "cancellation_policy             0\n",
       "dtype: int64"
      ]
     },
     "execution_count": 32,
     "metadata": {},
     "output_type": "execute_result"
    }
   ],
   "source": [
    "#Clearly from above we see Missing values in ratings whereever we have exactly one review, \n",
    "# for the sake of getting top five highly rated hosts lets fill Missing rating with average rating of all the listings.\n",
    "# Fill numeric column with the mean\n",
    "col = ['review_scores_rating']\n",
    "listing_filtered[col] = listing_filtered[col].fillna((listing_filtered[col].mean()))\n",
    "listing_filtered.isna().sum()\n"
   ]
  },
  {
   "cell_type": "markdown",
   "metadata": {},
   "source": [
    "Now lets find out top five highly rated hosts based on weighted_rating_score = number_of_reviews*review_scores_rating"
   ]
  },
  {
   "cell_type": "code",
   "execution_count": 33,
   "metadata": {},
   "outputs": [],
   "source": [
    "listing_filtered['weighted_rating_score'] = listing_filtered['number_of_reviews']*listing_filtered['review_scores_rating']"
   ]
  },
  {
   "cell_type": "code",
   "execution_count": 34,
   "metadata": {},
   "outputs": [
    {
     "data": {
      "text/html": [
       "<div>\n",
       "<style scoped>\n",
       "    .dataframe tbody tr th:only-of-type {\n",
       "        vertical-align: middle;\n",
       "    }\n",
       "\n",
       "    .dataframe tbody tr th {\n",
       "        vertical-align: top;\n",
       "    }\n",
       "\n",
       "    .dataframe thead th {\n",
       "        text-align: right;\n",
       "    }\n",
       "</style>\n",
       "<table border=\"1\" class=\"dataframe\">\n",
       "  <thead>\n",
       "    <tr style=\"text-align: right;\">\n",
       "      <th></th>\n",
       "      <th>id</th>\n",
       "      <th>host_id</th>\n",
       "      <th>host_response_time</th>\n",
       "      <th>host_response_rate</th>\n",
       "      <th>host_acceptance_rate</th>\n",
       "      <th>host_is_superhost</th>\n",
       "      <th>host_total_listings_count</th>\n",
       "      <th>host_identity_verified</th>\n",
       "      <th>neighbourhood</th>\n",
       "      <th>property_type</th>\n",
       "      <th>...</th>\n",
       "      <th>bed_type</th>\n",
       "      <th>square_feet</th>\n",
       "      <th>price</th>\n",
       "      <th>security_deposit</th>\n",
       "      <th>cleaning_fee</th>\n",
       "      <th>has_availability</th>\n",
       "      <th>number_of_reviews</th>\n",
       "      <th>review_scores_rating</th>\n",
       "      <th>cancellation_policy</th>\n",
       "      <th>weighted_rating_score</th>\n",
       "    </tr>\n",
       "  </thead>\n",
       "  <tbody>\n",
       "    <tr>\n",
       "      <th>1447</th>\n",
       "      <td>208356</td>\n",
       "      <td>1025723</td>\n",
       "      <td>within an hour</td>\n",
       "      <td>100.0</td>\n",
       "      <td>100.0</td>\n",
       "      <td>f</td>\n",
       "      <td>3.0</td>\n",
       "      <td>t</td>\n",
       "      <td>International District</td>\n",
       "      <td>Loft</td>\n",
       "      <td>...</td>\n",
       "      <td>Real Bed</td>\n",
       "      <td>NaN</td>\n",
       "      <td>89.0</td>\n",
       "      <td>250.0</td>\n",
       "      <td>NaN</td>\n",
       "      <td>t</td>\n",
       "      <td>474</td>\n",
       "      <td>95.0</td>\n",
       "      <td>strict</td>\n",
       "      <td>45030.0</td>\n",
       "    </tr>\n",
       "    <tr>\n",
       "      <th>1441</th>\n",
       "      <td>365550</td>\n",
       "      <td>1025723</td>\n",
       "      <td>within an hour</td>\n",
       "      <td>100.0</td>\n",
       "      <td>100.0</td>\n",
       "      <td>f</td>\n",
       "      <td>3.0</td>\n",
       "      <td>t</td>\n",
       "      <td>International District</td>\n",
       "      <td>Loft</td>\n",
       "      <td>...</td>\n",
       "      <td>Real Bed</td>\n",
       "      <td>NaN</td>\n",
       "      <td>89.0</td>\n",
       "      <td>250.0</td>\n",
       "      <td>NaN</td>\n",
       "      <td>t</td>\n",
       "      <td>466</td>\n",
       "      <td>94.0</td>\n",
       "      <td>strict</td>\n",
       "      <td>43804.0</td>\n",
       "    </tr>\n",
       "    <tr>\n",
       "      <th>3083</th>\n",
       "      <td>25002</td>\n",
       "      <td>102684</td>\n",
       "      <td>within a few hours</td>\n",
       "      <td>94.0</td>\n",
       "      <td>100.0</td>\n",
       "      <td>t</td>\n",
       "      <td>1.0</td>\n",
       "      <td>f</td>\n",
       "      <td>Ballard</td>\n",
       "      <td>House</td>\n",
       "      <td>...</td>\n",
       "      <td>Real Bed</td>\n",
       "      <td>NaN</td>\n",
       "      <td>75.0</td>\n",
       "      <td>NaN</td>\n",
       "      <td>15.0</td>\n",
       "      <td>t</td>\n",
       "      <td>404</td>\n",
       "      <td>98.0</td>\n",
       "      <td>flexible</td>\n",
       "      <td>39592.0</td>\n",
       "    </tr>\n",
       "    <tr>\n",
       "      <th>3600</th>\n",
       "      <td>47196</td>\n",
       "      <td>212740</td>\n",
       "      <td>within an hour</td>\n",
       "      <td>90.0</td>\n",
       "      <td>100.0</td>\n",
       "      <td>f</td>\n",
       "      <td>1.0</td>\n",
       "      <td>f</td>\n",
       "      <td>Stevens</td>\n",
       "      <td>House</td>\n",
       "      <td>...</td>\n",
       "      <td>Real Bed</td>\n",
       "      <td>NaN</td>\n",
       "      <td>65.0</td>\n",
       "      <td>NaN</td>\n",
       "      <td>15.0</td>\n",
       "      <td>t</td>\n",
       "      <td>353</td>\n",
       "      <td>93.0</td>\n",
       "      <td>moderate</td>\n",
       "      <td>32829.0</td>\n",
       "    </tr>\n",
       "    <tr>\n",
       "      <th>2568</th>\n",
       "      <td>63308</td>\n",
       "      <td>308927</td>\n",
       "      <td>within a few hours</td>\n",
       "      <td>100.0</td>\n",
       "      <td>100.0</td>\n",
       "      <td>t</td>\n",
       "      <td>2.0</td>\n",
       "      <td>t</td>\n",
       "      <td>Montlake</td>\n",
       "      <td>House</td>\n",
       "      <td>...</td>\n",
       "      <td>Real Bed</td>\n",
       "      <td>NaN</td>\n",
       "      <td>89.0</td>\n",
       "      <td>NaN</td>\n",
       "      <td>NaN</td>\n",
       "      <td>t</td>\n",
       "      <td>320</td>\n",
       "      <td>98.0</td>\n",
       "      <td>moderate</td>\n",
       "      <td>31360.0</td>\n",
       "    </tr>\n",
       "    <tr>\n",
       "      <th>1499</th>\n",
       "      <td>92835</td>\n",
       "      <td>391714</td>\n",
       "      <td>within an hour</td>\n",
       "      <td>100.0</td>\n",
       "      <td>100.0</td>\n",
       "      <td>f</td>\n",
       "      <td>2.0</td>\n",
       "      <td>t</td>\n",
       "      <td>Central Business District</td>\n",
       "      <td>Apartment</td>\n",
       "      <td>...</td>\n",
       "      <td>Real Bed</td>\n",
       "      <td>NaN</td>\n",
       "      <td>99.0</td>\n",
       "      <td>NaN</td>\n",
       "      <td>30.0</td>\n",
       "      <td>t</td>\n",
       "      <td>319</td>\n",
       "      <td>94.0</td>\n",
       "      <td>strict</td>\n",
       "      <td>29986.0</td>\n",
       "    </tr>\n",
       "  </tbody>\n",
       "</table>\n",
       "<p>6 rows × 25 columns</p>\n",
       "</div>"
      ],
      "text/plain": [
       "          id  host_id  host_response_time  host_response_rate  \\\n",
       "1447  208356  1025723      within an hour               100.0   \n",
       "1441  365550  1025723      within an hour               100.0   \n",
       "3083   25002   102684  within a few hours                94.0   \n",
       "3600   47196   212740      within an hour                90.0   \n",
       "2568   63308   308927  within a few hours               100.0   \n",
       "1499   92835   391714      within an hour               100.0   \n",
       "\n",
       "      host_acceptance_rate host_is_superhost  host_total_listings_count  \\\n",
       "1447                 100.0                 f                        3.0   \n",
       "1441                 100.0                 f                        3.0   \n",
       "3083                 100.0                 t                        1.0   \n",
       "3600                 100.0                 f                        1.0   \n",
       "2568                 100.0                 t                        2.0   \n",
       "1499                 100.0                 f                        2.0   \n",
       "\n",
       "     host_identity_verified              neighbourhood property_type  ...  \\\n",
       "1447                      t     International District          Loft  ...   \n",
       "1441                      t     International District          Loft  ...   \n",
       "3083                      f                    Ballard         House  ...   \n",
       "3600                      f                    Stevens         House  ...   \n",
       "2568                      t                   Montlake         House  ...   \n",
       "1499                      t  Central Business District     Apartment  ...   \n",
       "\n",
       "      bed_type  square_feet  price  security_deposit  cleaning_fee  \\\n",
       "1447  Real Bed          NaN   89.0             250.0           NaN   \n",
       "1441  Real Bed          NaN   89.0             250.0           NaN   \n",
       "3083  Real Bed          NaN   75.0               NaN          15.0   \n",
       "3600  Real Bed          NaN   65.0               NaN          15.0   \n",
       "2568  Real Bed          NaN   89.0               NaN           NaN   \n",
       "1499  Real Bed          NaN   99.0               NaN          30.0   \n",
       "\n",
       "     has_availability  number_of_reviews  review_scores_rating  \\\n",
       "1447                t                474                  95.0   \n",
       "1441                t                466                  94.0   \n",
       "3083                t                404                  98.0   \n",
       "3600                t                353                  93.0   \n",
       "2568                t                320                  98.0   \n",
       "1499                t                319                  94.0   \n",
       "\n",
       "      cancellation_policy  weighted_rating_score  \n",
       "1447               strict                45030.0  \n",
       "1441               strict                43804.0  \n",
       "3083             flexible                39592.0  \n",
       "3600             moderate                32829.0  \n",
       "2568             moderate                31360.0  \n",
       "1499               strict                29986.0  \n",
       "\n",
       "[6 rows x 25 columns]"
      ]
     },
     "execution_count": 34,
     "metadata": {},
     "output_type": "execute_result"
    }
   ],
   "source": [
    "top_five_hosts = listing_filtered.sort_values('weighted_rating_score',ascending=False)[:6]\n",
    "top_five_hosts"
   ]
  },
  {
   "cell_type": "markdown",
   "metadata": {},
   "source": [
    "If we see above we have duplicate host_ids in top host list we can consider next best host "
   ]
  },
  {
   "cell_type": "code",
   "execution_count": 35,
   "metadata": {},
   "outputs": [
    {
     "data": {
      "application/vnd.plotly.v1+json": {
       "config": {
        "plotlyServerURL": "https://plot.ly"
       },
       "data": [
        {
         "alignmentgroup": "True",
         "hovertemplate": "host_is_superhost=f<br>host_id=%{x}<br>weighted_rating_score=%{y}<extra></extra>",
         "legendgroup": "f",
         "marker": {
          "color": "#636efa"
         },
         "name": "f",
         "offsetgroup": "f",
         "orientation": "v",
         "showlegend": true,
         "textposition": "auto",
         "type": "bar",
         "x": [
          "1025723",
          "212740",
          "391714"
         ],
         "xaxis": "x",
         "y": [
          45030,
          32829,
          29986
         ],
         "yaxis": "y"
        },
        {
         "alignmentgroup": "True",
         "hovertemplate": "host_is_superhost=t<br>host_id=%{x}<br>weighted_rating_score=%{y}<extra></extra>",
         "legendgroup": "t",
         "marker": {
          "color": "#EF553B"
         },
         "name": "t",
         "offsetgroup": "t",
         "orientation": "v",
         "showlegend": true,
         "textposition": "auto",
         "type": "bar",
         "x": [
          "102684",
          "308927"
         ],
         "xaxis": "x",
         "y": [
          39592,
          31360
         ],
         "yaxis": "y"
        }
       ],
       "layout": {
        "barmode": "relative",
        "legend": {
         "title": {
          "text": "host_is_superhost"
         },
         "tracegroupgap": 0
        },
        "template": {
         "data": {
          "bar": [
           {
            "error_x": {
             "color": "#2a3f5f"
            },
            "error_y": {
             "color": "#2a3f5f"
            },
            "marker": {
             "line": {
              "color": "#E5ECF6",
              "width": 0.5
             }
            },
            "type": "bar"
           }
          ],
          "barpolar": [
           {
            "marker": {
             "line": {
              "color": "#E5ECF6",
              "width": 0.5
             }
            },
            "type": "barpolar"
           }
          ],
          "carpet": [
           {
            "aaxis": {
             "endlinecolor": "#2a3f5f",
             "gridcolor": "white",
             "linecolor": "white",
             "minorgridcolor": "white",
             "startlinecolor": "#2a3f5f"
            },
            "baxis": {
             "endlinecolor": "#2a3f5f",
             "gridcolor": "white",
             "linecolor": "white",
             "minorgridcolor": "white",
             "startlinecolor": "#2a3f5f"
            },
            "type": "carpet"
           }
          ],
          "choropleth": [
           {
            "colorbar": {
             "outlinewidth": 0,
             "ticks": ""
            },
            "type": "choropleth"
           }
          ],
          "contour": [
           {
            "colorbar": {
             "outlinewidth": 0,
             "ticks": ""
            },
            "colorscale": [
             [
              0,
              "#0d0887"
             ],
             [
              0.1111111111111111,
              "#46039f"
             ],
             [
              0.2222222222222222,
              "#7201a8"
             ],
             [
              0.3333333333333333,
              "#9c179e"
             ],
             [
              0.4444444444444444,
              "#bd3786"
             ],
             [
              0.5555555555555556,
              "#d8576b"
             ],
             [
              0.6666666666666666,
              "#ed7953"
             ],
             [
              0.7777777777777778,
              "#fb9f3a"
             ],
             [
              0.8888888888888888,
              "#fdca26"
             ],
             [
              1,
              "#f0f921"
             ]
            ],
            "type": "contour"
           }
          ],
          "contourcarpet": [
           {
            "colorbar": {
             "outlinewidth": 0,
             "ticks": ""
            },
            "type": "contourcarpet"
           }
          ],
          "heatmap": [
           {
            "colorbar": {
             "outlinewidth": 0,
             "ticks": ""
            },
            "colorscale": [
             [
              0,
              "#0d0887"
             ],
             [
              0.1111111111111111,
              "#46039f"
             ],
             [
              0.2222222222222222,
              "#7201a8"
             ],
             [
              0.3333333333333333,
              "#9c179e"
             ],
             [
              0.4444444444444444,
              "#bd3786"
             ],
             [
              0.5555555555555556,
              "#d8576b"
             ],
             [
              0.6666666666666666,
              "#ed7953"
             ],
             [
              0.7777777777777778,
              "#fb9f3a"
             ],
             [
              0.8888888888888888,
              "#fdca26"
             ],
             [
              1,
              "#f0f921"
             ]
            ],
            "type": "heatmap"
           }
          ],
          "heatmapgl": [
           {
            "colorbar": {
             "outlinewidth": 0,
             "ticks": ""
            },
            "colorscale": [
             [
              0,
              "#0d0887"
             ],
             [
              0.1111111111111111,
              "#46039f"
             ],
             [
              0.2222222222222222,
              "#7201a8"
             ],
             [
              0.3333333333333333,
              "#9c179e"
             ],
             [
              0.4444444444444444,
              "#bd3786"
             ],
             [
              0.5555555555555556,
              "#d8576b"
             ],
             [
              0.6666666666666666,
              "#ed7953"
             ],
             [
              0.7777777777777778,
              "#fb9f3a"
             ],
             [
              0.8888888888888888,
              "#fdca26"
             ],
             [
              1,
              "#f0f921"
             ]
            ],
            "type": "heatmapgl"
           }
          ],
          "histogram": [
           {
            "marker": {
             "colorbar": {
              "outlinewidth": 0,
              "ticks": ""
             }
            },
            "type": "histogram"
           }
          ],
          "histogram2d": [
           {
            "colorbar": {
             "outlinewidth": 0,
             "ticks": ""
            },
            "colorscale": [
             [
              0,
              "#0d0887"
             ],
             [
              0.1111111111111111,
              "#46039f"
             ],
             [
              0.2222222222222222,
              "#7201a8"
             ],
             [
              0.3333333333333333,
              "#9c179e"
             ],
             [
              0.4444444444444444,
              "#bd3786"
             ],
             [
              0.5555555555555556,
              "#d8576b"
             ],
             [
              0.6666666666666666,
              "#ed7953"
             ],
             [
              0.7777777777777778,
              "#fb9f3a"
             ],
             [
              0.8888888888888888,
              "#fdca26"
             ],
             [
              1,
              "#f0f921"
             ]
            ],
            "type": "histogram2d"
           }
          ],
          "histogram2dcontour": [
           {
            "colorbar": {
             "outlinewidth": 0,
             "ticks": ""
            },
            "colorscale": [
             [
              0,
              "#0d0887"
             ],
             [
              0.1111111111111111,
              "#46039f"
             ],
             [
              0.2222222222222222,
              "#7201a8"
             ],
             [
              0.3333333333333333,
              "#9c179e"
             ],
             [
              0.4444444444444444,
              "#bd3786"
             ],
             [
              0.5555555555555556,
              "#d8576b"
             ],
             [
              0.6666666666666666,
              "#ed7953"
             ],
             [
              0.7777777777777778,
              "#fb9f3a"
             ],
             [
              0.8888888888888888,
              "#fdca26"
             ],
             [
              1,
              "#f0f921"
             ]
            ],
            "type": "histogram2dcontour"
           }
          ],
          "mesh3d": [
           {
            "colorbar": {
             "outlinewidth": 0,
             "ticks": ""
            },
            "type": "mesh3d"
           }
          ],
          "parcoords": [
           {
            "line": {
             "colorbar": {
              "outlinewidth": 0,
              "ticks": ""
             }
            },
            "type": "parcoords"
           }
          ],
          "pie": [
           {
            "automargin": true,
            "type": "pie"
           }
          ],
          "scatter": [
           {
            "marker": {
             "colorbar": {
              "outlinewidth": 0,
              "ticks": ""
             }
            },
            "type": "scatter"
           }
          ],
          "scatter3d": [
           {
            "line": {
             "colorbar": {
              "outlinewidth": 0,
              "ticks": ""
             }
            },
            "marker": {
             "colorbar": {
              "outlinewidth": 0,
              "ticks": ""
             }
            },
            "type": "scatter3d"
           }
          ],
          "scattercarpet": [
           {
            "marker": {
             "colorbar": {
              "outlinewidth": 0,
              "ticks": ""
             }
            },
            "type": "scattercarpet"
           }
          ],
          "scattergeo": [
           {
            "marker": {
             "colorbar": {
              "outlinewidth": 0,
              "ticks": ""
             }
            },
            "type": "scattergeo"
           }
          ],
          "scattergl": [
           {
            "marker": {
             "colorbar": {
              "outlinewidth": 0,
              "ticks": ""
             }
            },
            "type": "scattergl"
           }
          ],
          "scattermapbox": [
           {
            "marker": {
             "colorbar": {
              "outlinewidth": 0,
              "ticks": ""
             }
            },
            "type": "scattermapbox"
           }
          ],
          "scatterpolar": [
           {
            "marker": {
             "colorbar": {
              "outlinewidth": 0,
              "ticks": ""
             }
            },
            "type": "scatterpolar"
           }
          ],
          "scatterpolargl": [
           {
            "marker": {
             "colorbar": {
              "outlinewidth": 0,
              "ticks": ""
             }
            },
            "type": "scatterpolargl"
           }
          ],
          "scatterternary": [
           {
            "marker": {
             "colorbar": {
              "outlinewidth": 0,
              "ticks": ""
             }
            },
            "type": "scatterternary"
           }
          ],
          "surface": [
           {
            "colorbar": {
             "outlinewidth": 0,
             "ticks": ""
            },
            "colorscale": [
             [
              0,
              "#0d0887"
             ],
             [
              0.1111111111111111,
              "#46039f"
             ],
             [
              0.2222222222222222,
              "#7201a8"
             ],
             [
              0.3333333333333333,
              "#9c179e"
             ],
             [
              0.4444444444444444,
              "#bd3786"
             ],
             [
              0.5555555555555556,
              "#d8576b"
             ],
             [
              0.6666666666666666,
              "#ed7953"
             ],
             [
              0.7777777777777778,
              "#fb9f3a"
             ],
             [
              0.8888888888888888,
              "#fdca26"
             ],
             [
              1,
              "#f0f921"
             ]
            ],
            "type": "surface"
           }
          ],
          "table": [
           {
            "cells": {
             "fill": {
              "color": "#EBF0F8"
             },
             "line": {
              "color": "white"
             }
            },
            "header": {
             "fill": {
              "color": "#C8D4E3"
             },
             "line": {
              "color": "white"
             }
            },
            "type": "table"
           }
          ]
         },
         "layout": {
          "annotationdefaults": {
           "arrowcolor": "#2a3f5f",
           "arrowhead": 0,
           "arrowwidth": 1
          },
          "coloraxis": {
           "colorbar": {
            "outlinewidth": 0,
            "ticks": ""
           }
          },
          "colorscale": {
           "diverging": [
            [
             0,
             "#8e0152"
            ],
            [
             0.1,
             "#c51b7d"
            ],
            [
             0.2,
             "#de77ae"
            ],
            [
             0.3,
             "#f1b6da"
            ],
            [
             0.4,
             "#fde0ef"
            ],
            [
             0.5,
             "#f7f7f7"
            ],
            [
             0.6,
             "#e6f5d0"
            ],
            [
             0.7,
             "#b8e186"
            ],
            [
             0.8,
             "#7fbc41"
            ],
            [
             0.9,
             "#4d9221"
            ],
            [
             1,
             "#276419"
            ]
           ],
           "sequential": [
            [
             0,
             "#0d0887"
            ],
            [
             0.1111111111111111,
             "#46039f"
            ],
            [
             0.2222222222222222,
             "#7201a8"
            ],
            [
             0.3333333333333333,
             "#9c179e"
            ],
            [
             0.4444444444444444,
             "#bd3786"
            ],
            [
             0.5555555555555556,
             "#d8576b"
            ],
            [
             0.6666666666666666,
             "#ed7953"
            ],
            [
             0.7777777777777778,
             "#fb9f3a"
            ],
            [
             0.8888888888888888,
             "#fdca26"
            ],
            [
             1,
             "#f0f921"
            ]
           ],
           "sequentialminus": [
            [
             0,
             "#0d0887"
            ],
            [
             0.1111111111111111,
             "#46039f"
            ],
            [
             0.2222222222222222,
             "#7201a8"
            ],
            [
             0.3333333333333333,
             "#9c179e"
            ],
            [
             0.4444444444444444,
             "#bd3786"
            ],
            [
             0.5555555555555556,
             "#d8576b"
            ],
            [
             0.6666666666666666,
             "#ed7953"
            ],
            [
             0.7777777777777778,
             "#fb9f3a"
            ],
            [
             0.8888888888888888,
             "#fdca26"
            ],
            [
             1,
             "#f0f921"
            ]
           ]
          },
          "colorway": [
           "#636efa",
           "#EF553B",
           "#00cc96",
           "#ab63fa",
           "#FFA15A",
           "#19d3f3",
           "#FF6692",
           "#B6E880",
           "#FF97FF",
           "#FECB52"
          ],
          "font": {
           "color": "#2a3f5f"
          },
          "geo": {
           "bgcolor": "white",
           "lakecolor": "white",
           "landcolor": "#E5ECF6",
           "showlakes": true,
           "showland": true,
           "subunitcolor": "white"
          },
          "hoverlabel": {
           "align": "left"
          },
          "hovermode": "closest",
          "mapbox": {
           "style": "light"
          },
          "paper_bgcolor": "white",
          "plot_bgcolor": "#E5ECF6",
          "polar": {
           "angularaxis": {
            "gridcolor": "white",
            "linecolor": "white",
            "ticks": ""
           },
           "bgcolor": "#E5ECF6",
           "radialaxis": {
            "gridcolor": "white",
            "linecolor": "white",
            "ticks": ""
           }
          },
          "scene": {
           "xaxis": {
            "backgroundcolor": "#E5ECF6",
            "gridcolor": "white",
            "gridwidth": 2,
            "linecolor": "white",
            "showbackground": true,
            "ticks": "",
            "zerolinecolor": "white"
           },
           "yaxis": {
            "backgroundcolor": "#E5ECF6",
            "gridcolor": "white",
            "gridwidth": 2,
            "linecolor": "white",
            "showbackground": true,
            "ticks": "",
            "zerolinecolor": "white"
           },
           "zaxis": {
            "backgroundcolor": "#E5ECF6",
            "gridcolor": "white",
            "gridwidth": 2,
            "linecolor": "white",
            "showbackground": true,
            "ticks": "",
            "zerolinecolor": "white"
           }
          },
          "shapedefaults": {
           "line": {
            "color": "#2a3f5f"
           }
          },
          "ternary": {
           "aaxis": {
            "gridcolor": "white",
            "linecolor": "white",
            "ticks": ""
           },
           "baxis": {
            "gridcolor": "white",
            "linecolor": "white",
            "ticks": ""
           },
           "bgcolor": "#E5ECF6",
           "caxis": {
            "gridcolor": "white",
            "linecolor": "white",
            "ticks": ""
           }
          },
          "title": {
           "x": 0.05
          },
          "xaxis": {
           "automargin": true,
           "gridcolor": "white",
           "linecolor": "white",
           "ticks": "",
           "title": {
            "standoff": 15
           },
           "zerolinecolor": "white",
           "zerolinewidth": 2
          },
          "yaxis": {
           "automargin": true,
           "gridcolor": "white",
           "linecolor": "white",
           "ticks": "",
           "title": {
            "standoff": 15
           },
           "zerolinecolor": "white",
           "zerolinewidth": 2
          }
         }
        },
        "title": {
         "text": "Top Five Hosts as per weighted rating score and whether a superhost or not"
        },
        "xaxis": {
         "anchor": "y",
         "domain": [
          0,
          1
         ],
         "title": {
          "text": "host_id"
         },
         "type": "category"
        },
        "yaxis": {
         "anchor": "x",
         "domain": [
          0,
          1
         ],
         "title": {
          "text": "weighted_rating_score"
         }
        }
       }
      },
      "text/html": [
       "<div>\n",
       "        \n",
       "        \n",
       "            <div id=\"69d83c24-b7b2-49dd-ad4f-11168f19b535\" class=\"plotly-graph-div\" style=\"height:525px; width:100%;\"></div>\n",
       "            <script type=\"text/javascript\">\n",
       "                require([\"plotly\"], function(Plotly) {\n",
       "                    window.PLOTLYENV=window.PLOTLYENV || {};\n",
       "                    \n",
       "                if (document.getElementById(\"69d83c24-b7b2-49dd-ad4f-11168f19b535\")) {\n",
       "                    Plotly.newPlot(\n",
       "                        '69d83c24-b7b2-49dd-ad4f-11168f19b535',\n",
       "                        [{\"alignmentgroup\": \"True\", \"hovertemplate\": \"host_is_superhost=f<br>host_id=%{x}<br>weighted_rating_score=%{y}<extra></extra>\", \"legendgroup\": \"f\", \"marker\": {\"color\": \"#636efa\"}, \"name\": \"f\", \"offsetgroup\": \"f\", \"orientation\": \"v\", \"showlegend\": true, \"textposition\": \"auto\", \"type\": \"bar\", \"x\": [\"1025723\", \"212740\", \"391714\"], \"xaxis\": \"x\", \"y\": [45030.0, 32829.0, 29986.0], \"yaxis\": \"y\"}, {\"alignmentgroup\": \"True\", \"hovertemplate\": \"host_is_superhost=t<br>host_id=%{x}<br>weighted_rating_score=%{y}<extra></extra>\", \"legendgroup\": \"t\", \"marker\": {\"color\": \"#EF553B\"}, \"name\": \"t\", \"offsetgroup\": \"t\", \"orientation\": \"v\", \"showlegend\": true, \"textposition\": \"auto\", \"type\": \"bar\", \"x\": [\"102684\", \"308927\"], \"xaxis\": \"x\", \"y\": [39592.0, 31360.0], \"yaxis\": \"y\"}],\n",
       "                        {\"barmode\": \"relative\", \"legend\": {\"title\": {\"text\": \"host_is_superhost\"}, \"tracegroupgap\": 0}, \"template\": {\"data\": {\"bar\": [{\"error_x\": {\"color\": \"#2a3f5f\"}, \"error_y\": {\"color\": \"#2a3f5f\"}, \"marker\": {\"line\": {\"color\": \"#E5ECF6\", \"width\": 0.5}}, \"type\": \"bar\"}], \"barpolar\": [{\"marker\": {\"line\": {\"color\": \"#E5ECF6\", \"width\": 0.5}}, \"type\": \"barpolar\"}], \"carpet\": [{\"aaxis\": {\"endlinecolor\": \"#2a3f5f\", \"gridcolor\": \"white\", \"linecolor\": \"white\", \"minorgridcolor\": \"white\", \"startlinecolor\": \"#2a3f5f\"}, \"baxis\": {\"endlinecolor\": \"#2a3f5f\", \"gridcolor\": \"white\", \"linecolor\": \"white\", \"minorgridcolor\": \"white\", \"startlinecolor\": \"#2a3f5f\"}, \"type\": \"carpet\"}], \"choropleth\": [{\"colorbar\": {\"outlinewidth\": 0, \"ticks\": \"\"}, \"type\": \"choropleth\"}], \"contour\": [{\"colorbar\": {\"outlinewidth\": 0, \"ticks\": \"\"}, \"colorscale\": [[0.0, \"#0d0887\"], [0.1111111111111111, \"#46039f\"], [0.2222222222222222, \"#7201a8\"], [0.3333333333333333, \"#9c179e\"], [0.4444444444444444, \"#bd3786\"], [0.5555555555555556, \"#d8576b\"], [0.6666666666666666, \"#ed7953\"], [0.7777777777777778, \"#fb9f3a\"], [0.8888888888888888, \"#fdca26\"], [1.0, \"#f0f921\"]], \"type\": \"contour\"}], \"contourcarpet\": [{\"colorbar\": {\"outlinewidth\": 0, \"ticks\": \"\"}, \"type\": \"contourcarpet\"}], \"heatmap\": [{\"colorbar\": {\"outlinewidth\": 0, \"ticks\": \"\"}, \"colorscale\": [[0.0, \"#0d0887\"], [0.1111111111111111, \"#46039f\"], [0.2222222222222222, \"#7201a8\"], [0.3333333333333333, \"#9c179e\"], [0.4444444444444444, \"#bd3786\"], [0.5555555555555556, \"#d8576b\"], [0.6666666666666666, \"#ed7953\"], [0.7777777777777778, \"#fb9f3a\"], [0.8888888888888888, \"#fdca26\"], [1.0, \"#f0f921\"]], \"type\": \"heatmap\"}], \"heatmapgl\": [{\"colorbar\": {\"outlinewidth\": 0, \"ticks\": \"\"}, \"colorscale\": [[0.0, \"#0d0887\"], [0.1111111111111111, \"#46039f\"], [0.2222222222222222, \"#7201a8\"], [0.3333333333333333, \"#9c179e\"], [0.4444444444444444, \"#bd3786\"], [0.5555555555555556, \"#d8576b\"], [0.6666666666666666, \"#ed7953\"], [0.7777777777777778, \"#fb9f3a\"], [0.8888888888888888, \"#fdca26\"], [1.0, \"#f0f921\"]], \"type\": \"heatmapgl\"}], \"histogram\": [{\"marker\": {\"colorbar\": {\"outlinewidth\": 0, \"ticks\": \"\"}}, \"type\": \"histogram\"}], \"histogram2d\": [{\"colorbar\": {\"outlinewidth\": 0, \"ticks\": \"\"}, \"colorscale\": [[0.0, \"#0d0887\"], [0.1111111111111111, \"#46039f\"], [0.2222222222222222, \"#7201a8\"], [0.3333333333333333, \"#9c179e\"], [0.4444444444444444, \"#bd3786\"], [0.5555555555555556, \"#d8576b\"], [0.6666666666666666, \"#ed7953\"], [0.7777777777777778, \"#fb9f3a\"], [0.8888888888888888, \"#fdca26\"], [1.0, \"#f0f921\"]], \"type\": \"histogram2d\"}], \"histogram2dcontour\": [{\"colorbar\": {\"outlinewidth\": 0, \"ticks\": \"\"}, \"colorscale\": [[0.0, \"#0d0887\"], [0.1111111111111111, \"#46039f\"], [0.2222222222222222, \"#7201a8\"], [0.3333333333333333, \"#9c179e\"], [0.4444444444444444, \"#bd3786\"], [0.5555555555555556, \"#d8576b\"], [0.6666666666666666, \"#ed7953\"], [0.7777777777777778, \"#fb9f3a\"], [0.8888888888888888, \"#fdca26\"], [1.0, \"#f0f921\"]], \"type\": \"histogram2dcontour\"}], \"mesh3d\": [{\"colorbar\": {\"outlinewidth\": 0, \"ticks\": \"\"}, \"type\": \"mesh3d\"}], \"parcoords\": [{\"line\": {\"colorbar\": {\"outlinewidth\": 0, \"ticks\": \"\"}}, \"type\": \"parcoords\"}], \"pie\": [{\"automargin\": true, \"type\": \"pie\"}], \"scatter\": [{\"marker\": {\"colorbar\": {\"outlinewidth\": 0, \"ticks\": \"\"}}, \"type\": \"scatter\"}], \"scatter3d\": [{\"line\": {\"colorbar\": {\"outlinewidth\": 0, \"ticks\": \"\"}}, \"marker\": {\"colorbar\": {\"outlinewidth\": 0, \"ticks\": \"\"}}, \"type\": \"scatter3d\"}], \"scattercarpet\": [{\"marker\": {\"colorbar\": {\"outlinewidth\": 0, \"ticks\": \"\"}}, \"type\": \"scattercarpet\"}], \"scattergeo\": [{\"marker\": {\"colorbar\": {\"outlinewidth\": 0, \"ticks\": \"\"}}, \"type\": \"scattergeo\"}], \"scattergl\": [{\"marker\": {\"colorbar\": {\"outlinewidth\": 0, \"ticks\": \"\"}}, \"type\": \"scattergl\"}], \"scattermapbox\": [{\"marker\": {\"colorbar\": {\"outlinewidth\": 0, \"ticks\": \"\"}}, \"type\": \"scattermapbox\"}], \"scatterpolar\": [{\"marker\": {\"colorbar\": {\"outlinewidth\": 0, \"ticks\": \"\"}}, \"type\": \"scatterpolar\"}], \"scatterpolargl\": [{\"marker\": {\"colorbar\": {\"outlinewidth\": 0, \"ticks\": \"\"}}, \"type\": \"scatterpolargl\"}], \"scatterternary\": [{\"marker\": {\"colorbar\": {\"outlinewidth\": 0, \"ticks\": \"\"}}, \"type\": \"scatterternary\"}], \"surface\": [{\"colorbar\": {\"outlinewidth\": 0, \"ticks\": \"\"}, \"colorscale\": [[0.0, \"#0d0887\"], [0.1111111111111111, \"#46039f\"], [0.2222222222222222, \"#7201a8\"], [0.3333333333333333, \"#9c179e\"], [0.4444444444444444, \"#bd3786\"], [0.5555555555555556, \"#d8576b\"], [0.6666666666666666, \"#ed7953\"], [0.7777777777777778, \"#fb9f3a\"], [0.8888888888888888, \"#fdca26\"], [1.0, \"#f0f921\"]], \"type\": \"surface\"}], \"table\": [{\"cells\": {\"fill\": {\"color\": \"#EBF0F8\"}, \"line\": {\"color\": \"white\"}}, \"header\": {\"fill\": {\"color\": \"#C8D4E3\"}, \"line\": {\"color\": \"white\"}}, \"type\": \"table\"}]}, \"layout\": {\"annotationdefaults\": {\"arrowcolor\": \"#2a3f5f\", \"arrowhead\": 0, \"arrowwidth\": 1}, \"coloraxis\": {\"colorbar\": {\"outlinewidth\": 0, \"ticks\": \"\"}}, \"colorscale\": {\"diverging\": [[0, \"#8e0152\"], [0.1, \"#c51b7d\"], [0.2, \"#de77ae\"], [0.3, \"#f1b6da\"], [0.4, \"#fde0ef\"], [0.5, \"#f7f7f7\"], [0.6, \"#e6f5d0\"], [0.7, \"#b8e186\"], [0.8, \"#7fbc41\"], [0.9, \"#4d9221\"], [1, \"#276419\"]], \"sequential\": [[0.0, \"#0d0887\"], [0.1111111111111111, \"#46039f\"], [0.2222222222222222, \"#7201a8\"], [0.3333333333333333, \"#9c179e\"], [0.4444444444444444, \"#bd3786\"], [0.5555555555555556, \"#d8576b\"], [0.6666666666666666, \"#ed7953\"], [0.7777777777777778, \"#fb9f3a\"], [0.8888888888888888, \"#fdca26\"], [1.0, \"#f0f921\"]], \"sequentialminus\": [[0.0, \"#0d0887\"], [0.1111111111111111, \"#46039f\"], [0.2222222222222222, \"#7201a8\"], [0.3333333333333333, \"#9c179e\"], [0.4444444444444444, \"#bd3786\"], [0.5555555555555556, \"#d8576b\"], [0.6666666666666666, \"#ed7953\"], [0.7777777777777778, \"#fb9f3a\"], [0.8888888888888888, \"#fdca26\"], [1.0, \"#f0f921\"]]}, \"colorway\": [\"#636efa\", \"#EF553B\", \"#00cc96\", \"#ab63fa\", \"#FFA15A\", \"#19d3f3\", \"#FF6692\", \"#B6E880\", \"#FF97FF\", \"#FECB52\"], \"font\": {\"color\": \"#2a3f5f\"}, \"geo\": {\"bgcolor\": \"white\", \"lakecolor\": \"white\", \"landcolor\": \"#E5ECF6\", \"showlakes\": true, \"showland\": true, \"subunitcolor\": \"white\"}, \"hoverlabel\": {\"align\": \"left\"}, \"hovermode\": \"closest\", \"mapbox\": {\"style\": \"light\"}, \"paper_bgcolor\": \"white\", \"plot_bgcolor\": \"#E5ECF6\", \"polar\": {\"angularaxis\": {\"gridcolor\": \"white\", \"linecolor\": \"white\", \"ticks\": \"\"}, \"bgcolor\": \"#E5ECF6\", \"radialaxis\": {\"gridcolor\": \"white\", \"linecolor\": \"white\", \"ticks\": \"\"}}, \"scene\": {\"xaxis\": {\"backgroundcolor\": \"#E5ECF6\", \"gridcolor\": \"white\", \"gridwidth\": 2, \"linecolor\": \"white\", \"showbackground\": true, \"ticks\": \"\", \"zerolinecolor\": \"white\"}, \"yaxis\": {\"backgroundcolor\": \"#E5ECF6\", \"gridcolor\": \"white\", \"gridwidth\": 2, \"linecolor\": \"white\", \"showbackground\": true, \"ticks\": \"\", \"zerolinecolor\": \"white\"}, \"zaxis\": {\"backgroundcolor\": \"#E5ECF6\", \"gridcolor\": \"white\", \"gridwidth\": 2, \"linecolor\": \"white\", \"showbackground\": true, \"ticks\": \"\", \"zerolinecolor\": \"white\"}}, \"shapedefaults\": {\"line\": {\"color\": \"#2a3f5f\"}}, \"ternary\": {\"aaxis\": {\"gridcolor\": \"white\", \"linecolor\": \"white\", \"ticks\": \"\"}, \"baxis\": {\"gridcolor\": \"white\", \"linecolor\": \"white\", \"ticks\": \"\"}, \"bgcolor\": \"#E5ECF6\", \"caxis\": {\"gridcolor\": \"white\", \"linecolor\": \"white\", \"ticks\": \"\"}}, \"title\": {\"x\": 0.05}, \"xaxis\": {\"automargin\": true, \"gridcolor\": \"white\", \"linecolor\": \"white\", \"ticks\": \"\", \"title\": {\"standoff\": 15}, \"zerolinecolor\": \"white\", \"zerolinewidth\": 2}, \"yaxis\": {\"automargin\": true, \"gridcolor\": \"white\", \"linecolor\": \"white\", \"ticks\": \"\", \"title\": {\"standoff\": 15}, \"zerolinecolor\": \"white\", \"zerolinewidth\": 2}}}, \"title\": {\"text\": \"Top Five Hosts as per weighted rating score and whether a superhost or not\"}, \"xaxis\": {\"anchor\": \"y\", \"domain\": [0.0, 1.0], \"title\": {\"text\": \"host_id\"}, \"type\": \"category\"}, \"yaxis\": {\"anchor\": \"x\", \"domain\": [0.0, 1.0], \"title\": {\"text\": \"weighted_rating_score\"}}},\n",
       "                        {\"responsive\": true}\n",
       "                    ).then(function(){\n",
       "                            \n",
       "var gd = document.getElementById('69d83c24-b7b2-49dd-ad4f-11168f19b535');\n",
       "var x = new MutationObserver(function (mutations, observer) {{\n",
       "        var display = window.getComputedStyle(gd).display;\n",
       "        if (!display || display === 'none') {{\n",
       "            console.log([gd, 'removed!']);\n",
       "            Plotly.purge(gd);\n",
       "            observer.disconnect();\n",
       "        }}\n",
       "}});\n",
       "\n",
       "// Listen for the removal of the full notebook cells\n",
       "var notebookContainer = gd.closest('#notebook-container');\n",
       "if (notebookContainer) {{\n",
       "    x.observe(notebookContainer, {childList: true});\n",
       "}}\n",
       "\n",
       "// Listen for the clearing of the current output cell\n",
       "var outputEl = gd.closest('.output');\n",
       "if (outputEl) {{\n",
       "    x.observe(outputEl, {childList: true});\n",
       "}}\n",
       "\n",
       "                        })\n",
       "                };\n",
       "                });\n",
       "            </script>\n",
       "        </div>"
      ]
     },
     "metadata": {},
     "output_type": "display_data"
    }
   ],
   "source": [
    "top_five_hosts = top_five_hosts.drop_duplicates(subset=['host_id'])\n",
    "top_five_hosts['host_id'] = top_five_hosts['host_id'].astype(str)\n",
    "\n",
    "fig = px.bar(top_five_hosts, x=\"host_id\", y=\"weighted_rating_score\", color=\"host_is_superhost\", title=\"Top Five Hosts as per weighted rating score and whether a superhost or not\")\n",
    "fig.layout.xaxis.type=\"category\"\n",
    "fig.show()"
   ]
  },
  {
   "cell_type": "markdown",
   "metadata": {},
   "source": [
    "Clearly not all of the top five hosts are categorized as super host infact in top five three are categorized as not a super host."
   ]
  },
  {
   "cell_type": "markdown",
   "metadata": {},
   "source": [
    "## Question 2\n",
    "Are the top ten reviewing/loyal customers satisfied or in simple words have they rated on higher side or lower side than average rating?\n",
    "<br>Lets try to answer this.\n"
   ]
  },
  {
   "cell_type": "code",
   "execution_count": 36,
   "metadata": {},
   "outputs": [
    {
     "name": "stdout",
     "output_type": "stream",
     "text": [
      "78.93206951026856\n"
     ]
    }
   ],
   "source": [
    "#First Calculate average rating\n",
    "average_rating_overall = listing_filtered['review_scores_rating'].mean()\n",
    "print(average_rating_overall)"
   ]
  },
  {
   "cell_type": "code",
   "execution_count": 37,
   "metadata": {},
   "outputs": [
    {
     "data": {
      "text/html": [
       "<div>\n",
       "<style scoped>\n",
       "    .dataframe tbody tr th:only-of-type {\n",
       "        vertical-align: middle;\n",
       "    }\n",
       "\n",
       "    .dataframe tbody tr th {\n",
       "        vertical-align: top;\n",
       "    }\n",
       "\n",
       "    .dataframe thead th {\n",
       "        text-align: right;\n",
       "    }\n",
       "</style>\n",
       "<table border=\"1\" class=\"dataframe\">\n",
       "  <thead>\n",
       "    <tr style=\"text-align: right;\">\n",
       "      <th></th>\n",
       "      <th>reviewer_id</th>\n",
       "      <th>count</th>\n",
       "    </tr>\n",
       "  </thead>\n",
       "  <tbody>\n",
       "    <tr>\n",
       "      <th>0</th>\n",
       "      <td>206203</td>\n",
       "      <td>67</td>\n",
       "    </tr>\n",
       "    <tr>\n",
       "      <th>1</th>\n",
       "      <td>15121499</td>\n",
       "      <td>32</td>\n",
       "    </tr>\n",
       "    <tr>\n",
       "      <th>2</th>\n",
       "      <td>5775807</td>\n",
       "      <td>19</td>\n",
       "    </tr>\n",
       "    <tr>\n",
       "      <th>3</th>\n",
       "      <td>2734499</td>\n",
       "      <td>19</td>\n",
       "    </tr>\n",
       "    <tr>\n",
       "      <th>4</th>\n",
       "      <td>29590276</td>\n",
       "      <td>18</td>\n",
       "    </tr>\n",
       "    <tr>\n",
       "      <th>5</th>\n",
       "      <td>7448809</td>\n",
       "      <td>17</td>\n",
       "    </tr>\n",
       "    <tr>\n",
       "      <th>6</th>\n",
       "      <td>8013961</td>\n",
       "      <td>16</td>\n",
       "    </tr>\n",
       "    <tr>\n",
       "      <th>7</th>\n",
       "      <td>1971733</td>\n",
       "      <td>14</td>\n",
       "    </tr>\n",
       "    <tr>\n",
       "      <th>8</th>\n",
       "      <td>41158892</td>\n",
       "      <td>14</td>\n",
       "    </tr>\n",
       "    <tr>\n",
       "      <th>9</th>\n",
       "      <td>5053141</td>\n",
       "      <td>14</td>\n",
       "    </tr>\n",
       "  </tbody>\n",
       "</table>\n",
       "</div>"
      ],
      "text/plain": [
       "   reviewer_id  count\n",
       "0       206203     67\n",
       "1     15121499     32\n",
       "2      5775807     19\n",
       "3      2734499     19\n",
       "4     29590276     18\n",
       "5      7448809     17\n",
       "6      8013961     16\n",
       "7      1971733     14\n",
       "8     41158892     14\n",
       "9      5053141     14"
      ]
     },
     "execution_count": 37,
     "metadata": {},
     "output_type": "execute_result"
    }
   ],
   "source": [
    "# First find top ten loyal customers from reviews dataset\n",
    "top_ten_reviewers = reviews['reviewer_id'].value_counts().to_frame().sort_values(['reviewer_id'],ascending=False).reset_index().rename(columns = {'index':'reviewer_id','reviewer_id':'count'})[:10]\n",
    "top_ten_reviewers"
   ]
  },
  {
   "cell_type": "code",
   "execution_count": 38,
   "metadata": {},
   "outputs": [
    {
     "data": {
      "text/html": [
       "<div>\n",
       "<style scoped>\n",
       "    .dataframe tbody tr th:only-of-type {\n",
       "        vertical-align: middle;\n",
       "    }\n",
       "\n",
       "    .dataframe tbody tr th {\n",
       "        vertical-align: top;\n",
       "    }\n",
       "\n",
       "    .dataframe thead th {\n",
       "        text-align: right;\n",
       "    }\n",
       "</style>\n",
       "<table border=\"1\" class=\"dataframe\">\n",
       "  <thead>\n",
       "    <tr style=\"text-align: right;\">\n",
       "      <th></th>\n",
       "      <th>listing_id</th>\n",
       "      <th>id</th>\n",
       "      <th>date</th>\n",
       "      <th>reviewer_id</th>\n",
       "      <th>reviewer_name</th>\n",
       "      <th>comments</th>\n",
       "    </tr>\n",
       "  </thead>\n",
       "  <tbody>\n",
       "    <tr>\n",
       "      <th>292</th>\n",
       "      <td>7550234</td>\n",
       "      <td>49947935</td>\n",
       "      <td>2015-10-07</td>\n",
       "      <td>41158892</td>\n",
       "      <td>Paige</td>\n",
       "      <td>While I didn't get to meet Dario or Ethan, I h...</td>\n",
       "    </tr>\n",
       "    <tr>\n",
       "      <th>838</th>\n",
       "      <td>1707064</td>\n",
       "      <td>8014797</td>\n",
       "      <td>2013-10-12</td>\n",
       "      <td>2734499</td>\n",
       "      <td>Jason</td>\n",
       "      <td>Super awesome landing pad for centrally locate...</td>\n",
       "    </tr>\n",
       "    <tr>\n",
       "      <th>939</th>\n",
       "      <td>1707064</td>\n",
       "      <td>29648122</td>\n",
       "      <td>2015-04-10</td>\n",
       "      <td>15121499</td>\n",
       "      <td>Kathryn</td>\n",
       "      <td>This place is AWESOME!!!! It has so much chara...</td>\n",
       "    </tr>\n",
       "    <tr>\n",
       "      <th>2614</th>\n",
       "      <td>23356</td>\n",
       "      <td>28828602</td>\n",
       "      <td>2015-03-30</td>\n",
       "      <td>2734499</td>\n",
       "      <td>Jason</td>\n",
       "      <td>Great location. Safe neighborhood. Definitely ...</td>\n",
       "    </tr>\n",
       "    <tr>\n",
       "      <th>2921</th>\n",
       "      <td>4279876</td>\n",
       "      <td>29077094</td>\n",
       "      <td>2015-04-03</td>\n",
       "      <td>15121499</td>\n",
       "      <td>Kathryn</td>\n",
       "      <td>Beth was a great host! Super communicative and...</td>\n",
       "    </tr>\n",
       "    <tr>\n",
       "      <th>...</th>\n",
       "      <td>...</td>\n",
       "      <td>...</td>\n",
       "      <td>...</td>\n",
       "      <td>...</td>\n",
       "      <td>...</td>\n",
       "      <td>...</td>\n",
       "    </tr>\n",
       "    <tr>\n",
       "      <th>82500</th>\n",
       "      <td>9568491</td>\n",
       "      <td>55514551</td>\n",
       "      <td>2015-12-01</td>\n",
       "      <td>41158892</td>\n",
       "      <td>Paige</td>\n",
       "      <td>Erika was an awesome, super friendly host! I h...</td>\n",
       "    </tr>\n",
       "    <tr>\n",
       "      <th>83527</th>\n",
       "      <td>3916050</td>\n",
       "      <td>46663280</td>\n",
       "      <td>2015-09-12</td>\n",
       "      <td>41158892</td>\n",
       "      <td>Paige</td>\n",
       "      <td>Lisa's was kind and friendly, even though we r...</td>\n",
       "    </tr>\n",
       "    <tr>\n",
       "      <th>83691</th>\n",
       "      <td>6707735</td>\n",
       "      <td>46677840</td>\n",
       "      <td>2015-09-12</td>\n",
       "      <td>15121499</td>\n",
       "      <td>Kathryn</td>\n",
       "      <td>This place is so charming! Everything that you...</td>\n",
       "    </tr>\n",
       "    <tr>\n",
       "      <th>83991</th>\n",
       "      <td>442487</td>\n",
       "      <td>1536904</td>\n",
       "      <td>2012-06-22</td>\n",
       "      <td>206203</td>\n",
       "      <td>Amanda</td>\n",
       "      <td>The lovely garden studio is indeed lovely with...</td>\n",
       "    </tr>\n",
       "    <tr>\n",
       "      <th>84791</th>\n",
       "      <td>3424991</td>\n",
       "      <td>19353004</td>\n",
       "      <td>2014-09-10</td>\n",
       "      <td>8013961</td>\n",
       "      <td>Chris</td>\n",
       "      <td>The house is in a great location and the rooma...</td>\n",
       "    </tr>\n",
       "  </tbody>\n",
       "</table>\n",
       "<p>230 rows × 6 columns</p>\n",
       "</div>"
      ],
      "text/plain": [
       "       listing_id        id        date  reviewer_id reviewer_name  \\\n",
       "292       7550234  49947935  2015-10-07     41158892         Paige   \n",
       "838       1707064   8014797  2013-10-12      2734499         Jason   \n",
       "939       1707064  29648122  2015-04-10     15121499       Kathryn   \n",
       "2614        23356  28828602  2015-03-30      2734499         Jason   \n",
       "2921      4279876  29077094  2015-04-03     15121499       Kathryn   \n",
       "...           ...       ...         ...          ...           ...   \n",
       "82500     9568491  55514551  2015-12-01     41158892         Paige   \n",
       "83527     3916050  46663280  2015-09-12     41158892         Paige   \n",
       "83691     6707735  46677840  2015-09-12     15121499       Kathryn   \n",
       "83991      442487   1536904  2012-06-22       206203        Amanda   \n",
       "84791     3424991  19353004  2014-09-10      8013961         Chris   \n",
       "\n",
       "                                                comments  \n",
       "292    While I didn't get to meet Dario or Ethan, I h...  \n",
       "838    Super awesome landing pad for centrally locate...  \n",
       "939    This place is AWESOME!!!! It has so much chara...  \n",
       "2614   Great location. Safe neighborhood. Definitely ...  \n",
       "2921   Beth was a great host! Super communicative and...  \n",
       "...                                                  ...  \n",
       "82500  Erika was an awesome, super friendly host! I h...  \n",
       "83527  Lisa's was kind and friendly, even though we r...  \n",
       "83691  This place is so charming! Everything that you...  \n",
       "83991  The lovely garden studio is indeed lovely with...  \n",
       "84791  The house is in a great location and the rooma...  \n",
       "\n",
       "[230 rows x 6 columns]"
      ]
     },
     "execution_count": 38,
     "metadata": {},
     "output_type": "execute_result"
    }
   ],
   "source": [
    "list_of_top_rev = top_ten_reviewers['reviewer_id'].values\n",
    "top_reviewer = reviews[reviews['reviewer_id'].isin(list_of_top_rev)]\n",
    "top_reviewer"
   ]
  },
  {
   "cell_type": "code",
   "execution_count": 39,
   "metadata": {},
   "outputs": [],
   "source": [
    "listing_filtered.rename(columns={'id':'listing_id'},inplace=True)"
   ]
  },
  {
   "cell_type": "code",
   "execution_count": 40,
   "metadata": {},
   "outputs": [
    {
     "data": {
      "text/html": [
       "<div>\n",
       "<style scoped>\n",
       "    .dataframe tbody tr th:only-of-type {\n",
       "        vertical-align: middle;\n",
       "    }\n",
       "\n",
       "    .dataframe tbody tr th {\n",
       "        vertical-align: top;\n",
       "    }\n",
       "\n",
       "    .dataframe thead th {\n",
       "        text-align: right;\n",
       "    }\n",
       "</style>\n",
       "<table border=\"1\" class=\"dataframe\">\n",
       "  <thead>\n",
       "    <tr style=\"text-align: right;\">\n",
       "      <th></th>\n",
       "      <th>listing_id</th>\n",
       "      <th>reviewer_id</th>\n",
       "      <th>review_scores_rating</th>\n",
       "    </tr>\n",
       "  </thead>\n",
       "  <tbody>\n",
       "    <tr>\n",
       "      <th>0</th>\n",
       "      <td>7550234</td>\n",
       "      <td>41158892</td>\n",
       "      <td>94.0</td>\n",
       "    </tr>\n",
       "    <tr>\n",
       "      <th>1</th>\n",
       "      <td>1707064</td>\n",
       "      <td>2734499</td>\n",
       "      <td>96.0</td>\n",
       "    </tr>\n",
       "    <tr>\n",
       "      <th>2</th>\n",
       "      <td>1707064</td>\n",
       "      <td>15121499</td>\n",
       "      <td>96.0</td>\n",
       "    </tr>\n",
       "    <tr>\n",
       "      <th>3</th>\n",
       "      <td>23356</td>\n",
       "      <td>2734499</td>\n",
       "      <td>83.0</td>\n",
       "    </tr>\n",
       "    <tr>\n",
       "      <th>4</th>\n",
       "      <td>4279876</td>\n",
       "      <td>15121499</td>\n",
       "      <td>97.0</td>\n",
       "    </tr>\n",
       "    <tr>\n",
       "      <th>...</th>\n",
       "      <td>...</td>\n",
       "      <td>...</td>\n",
       "      <td>...</td>\n",
       "    </tr>\n",
       "    <tr>\n",
       "      <th>225</th>\n",
       "      <td>9568491</td>\n",
       "      <td>41158892</td>\n",
       "      <td>100.0</td>\n",
       "    </tr>\n",
       "    <tr>\n",
       "      <th>226</th>\n",
       "      <td>3916050</td>\n",
       "      <td>41158892</td>\n",
       "      <td>86.0</td>\n",
       "    </tr>\n",
       "    <tr>\n",
       "      <th>227</th>\n",
       "      <td>6707735</td>\n",
       "      <td>15121499</td>\n",
       "      <td>97.0</td>\n",
       "    </tr>\n",
       "    <tr>\n",
       "      <th>228</th>\n",
       "      <td>442487</td>\n",
       "      <td>206203</td>\n",
       "      <td>94.0</td>\n",
       "    </tr>\n",
       "    <tr>\n",
       "      <th>229</th>\n",
       "      <td>3424991</td>\n",
       "      <td>8013961</td>\n",
       "      <td>88.0</td>\n",
       "    </tr>\n",
       "  </tbody>\n",
       "</table>\n",
       "<p>230 rows × 3 columns</p>\n",
       "</div>"
      ],
      "text/plain": [
       "     listing_id  reviewer_id  review_scores_rating\n",
       "0       7550234     41158892                  94.0\n",
       "1       1707064      2734499                  96.0\n",
       "2       1707064     15121499                  96.0\n",
       "3         23356      2734499                  83.0\n",
       "4       4279876     15121499                  97.0\n",
       "..          ...          ...                   ...\n",
       "225     9568491     41158892                 100.0\n",
       "226     3916050     41158892                  86.0\n",
       "227     6707735     15121499                  97.0\n",
       "228      442487       206203                  94.0\n",
       "229     3424991      8013961                  88.0\n",
       "\n",
       "[230 rows x 3 columns]"
      ]
     },
     "execution_count": 40,
     "metadata": {},
     "output_type": "execute_result"
    }
   ],
   "source": [
    "merged_rev = pd.merge(top_reviewer,listing_filtered,on=['listing_id'],how='left')[['listing_id','reviewer_id','review_scores_rating']]\n",
    "merged_rev"
   ]
  },
  {
   "cell_type": "code",
   "execution_count": 41,
   "metadata": {},
   "outputs": [
    {
     "data": {
      "text/html": [
       "<div>\n",
       "<style scoped>\n",
       "    .dataframe tbody tr th:only-of-type {\n",
       "        vertical-align: middle;\n",
       "    }\n",
       "\n",
       "    .dataframe tbody tr th {\n",
       "        vertical-align: top;\n",
       "    }\n",
       "\n",
       "    .dataframe thead th {\n",
       "        text-align: right;\n",
       "    }\n",
       "</style>\n",
       "<table border=\"1\" class=\"dataframe\">\n",
       "  <thead>\n",
       "    <tr style=\"text-align: right;\">\n",
       "      <th></th>\n",
       "      <th>reviewer_id</th>\n",
       "      <th>review_scores_rating</th>\n",
       "    </tr>\n",
       "  </thead>\n",
       "  <tbody>\n",
       "    <tr>\n",
       "      <th>0</th>\n",
       "      <td>206203</td>\n",
       "      <td>95.970149</td>\n",
       "    </tr>\n",
       "    <tr>\n",
       "      <th>1</th>\n",
       "      <td>1971733</td>\n",
       "      <td>96.142857</td>\n",
       "    </tr>\n",
       "    <tr>\n",
       "      <th>2</th>\n",
       "      <td>2734499</td>\n",
       "      <td>92.947368</td>\n",
       "    </tr>\n",
       "    <tr>\n",
       "      <th>3</th>\n",
       "      <td>5053141</td>\n",
       "      <td>97.214286</td>\n",
       "    </tr>\n",
       "    <tr>\n",
       "      <th>4</th>\n",
       "      <td>5775807</td>\n",
       "      <td>95.894737</td>\n",
       "    </tr>\n",
       "    <tr>\n",
       "      <th>5</th>\n",
       "      <td>7448809</td>\n",
       "      <td>94.294118</td>\n",
       "    </tr>\n",
       "    <tr>\n",
       "      <th>6</th>\n",
       "      <td>8013961</td>\n",
       "      <td>94.562500</td>\n",
       "    </tr>\n",
       "    <tr>\n",
       "      <th>7</th>\n",
       "      <td>15121499</td>\n",
       "      <td>96.906250</td>\n",
       "    </tr>\n",
       "    <tr>\n",
       "      <th>8</th>\n",
       "      <td>29590276</td>\n",
       "      <td>96.611111</td>\n",
       "    </tr>\n",
       "    <tr>\n",
       "      <th>9</th>\n",
       "      <td>41158892</td>\n",
       "      <td>95.000000</td>\n",
       "    </tr>\n",
       "  </tbody>\n",
       "</table>\n",
       "</div>"
      ],
      "text/plain": [
       "   reviewer_id  review_scores_rating\n",
       "0       206203             95.970149\n",
       "1      1971733             96.142857\n",
       "2      2734499             92.947368\n",
       "3      5053141             97.214286\n",
       "4      5775807             95.894737\n",
       "5      7448809             94.294118\n",
       "6      8013961             94.562500\n",
       "7     15121499             96.906250\n",
       "8     29590276             96.611111\n",
       "9     41158892             95.000000"
      ]
     },
     "execution_count": 41,
     "metadata": {},
     "output_type": "execute_result"
    }
   ],
   "source": [
    "top_ten_rev_rating = merged_rev.groupby(['reviewer_id']).agg({'review_scores_rating':'mean'}).reset_index()\n",
    "top_ten_rev_rating"
   ]
  },
  {
   "cell_type": "markdown",
   "metadata": {},
   "source": [
    "Clearly all the top ten reviewers have average rating well above the overall average rating of listings in Seattle, that implies loyal customers are pretty satisfied customers."
   ]
  },
  {
   "cell_type": "markdown",
   "metadata": {},
   "source": [
    "### Question 3\n",
    "What are the most correlated features with price of the listing?\n",
    "<br> Lets answer this one too."
   ]
  },
  {
   "cell_type": "code",
   "execution_count": 42,
   "metadata": {},
   "outputs": [
    {
     "data": {
      "text/html": [
       "<div>\n",
       "<style scoped>\n",
       "    .dataframe tbody tr th:only-of-type {\n",
       "        vertical-align: middle;\n",
       "    }\n",
       "\n",
       "    .dataframe tbody tr th {\n",
       "        vertical-align: top;\n",
       "    }\n",
       "\n",
       "    .dataframe thead th {\n",
       "        text-align: right;\n",
       "    }\n",
       "</style>\n",
       "<table border=\"1\" class=\"dataframe\">\n",
       "  <thead>\n",
       "    <tr style=\"text-align: right;\">\n",
       "      <th></th>\n",
       "      <th>listing_id</th>\n",
       "      <th>host_id</th>\n",
       "      <th>host_response_rate</th>\n",
       "      <th>host_acceptance_rate</th>\n",
       "      <th>host_total_listings_count</th>\n",
       "      <th>accommodates</th>\n",
       "      <th>bathrooms</th>\n",
       "      <th>bedrooms</th>\n",
       "      <th>beds</th>\n",
       "      <th>square_feet</th>\n",
       "      <th>price</th>\n",
       "      <th>security_deposit</th>\n",
       "      <th>cleaning_fee</th>\n",
       "      <th>number_of_reviews</th>\n",
       "      <th>review_scores_rating</th>\n",
       "      <th>weighted_rating_score</th>\n",
       "    </tr>\n",
       "  </thead>\n",
       "  <tbody>\n",
       "    <tr>\n",
       "      <th>count</th>\n",
       "      <td>3.818000e+03</td>\n",
       "      <td>3.818000e+03</td>\n",
       "      <td>3295.000000</td>\n",
       "      <td>3045.000000</td>\n",
       "      <td>3816.000000</td>\n",
       "      <td>3818.000000</td>\n",
       "      <td>3802.000000</td>\n",
       "      <td>3812.000000</td>\n",
       "      <td>3817.000000</td>\n",
       "      <td>97.000000</td>\n",
       "      <td>3818.000000</td>\n",
       "      <td>1866.000000</td>\n",
       "      <td>2788.000000</td>\n",
       "      <td>3818.000000</td>\n",
       "      <td>3818.000000</td>\n",
       "      <td>3818.000000</td>\n",
       "    </tr>\n",
       "    <tr>\n",
       "      <th>mean</th>\n",
       "      <td>5.550111e+06</td>\n",
       "      <td>1.578556e+07</td>\n",
       "      <td>94.886798</td>\n",
       "      <td>99.967159</td>\n",
       "      <td>7.157757</td>\n",
       "      <td>3.349398</td>\n",
       "      <td>1.259469</td>\n",
       "      <td>1.307712</td>\n",
       "      <td>1.735394</td>\n",
       "      <td>854.618557</td>\n",
       "      <td>127.976166</td>\n",
       "      <td>287.610397</td>\n",
       "      <td>61.710904</td>\n",
       "      <td>22.223415</td>\n",
       "      <td>78.932070</td>\n",
       "      <td>2108.837779</td>\n",
       "    </tr>\n",
       "    <tr>\n",
       "      <th>std</th>\n",
       "      <td>2.962660e+06</td>\n",
       "      <td>1.458382e+07</td>\n",
       "      <td>11.866705</td>\n",
       "      <td>1.812201</td>\n",
       "      <td>28.628149</td>\n",
       "      <td>1.977599</td>\n",
       "      <td>0.590369</td>\n",
       "      <td>0.883395</td>\n",
       "      <td>1.139480</td>\n",
       "      <td>671.404893</td>\n",
       "      <td>90.250022</td>\n",
       "      <td>270.222690</td>\n",
       "      <td>48.830341</td>\n",
       "      <td>37.730892</td>\n",
       "      <td>35.524907</td>\n",
       "      <td>3590.384744</td>\n",
       "    </tr>\n",
       "    <tr>\n",
       "      <th>min</th>\n",
       "      <td>3.335000e+03</td>\n",
       "      <td>4.193000e+03</td>\n",
       "      <td>17.000000</td>\n",
       "      <td>0.000000</td>\n",
       "      <td>1.000000</td>\n",
       "      <td>1.000000</td>\n",
       "      <td>0.000000</td>\n",
       "      <td>0.000000</td>\n",
       "      <td>1.000000</td>\n",
       "      <td>0.000000</td>\n",
       "      <td>20.000000</td>\n",
       "      <td>95.000000</td>\n",
       "      <td>5.000000</td>\n",
       "      <td>0.000000</td>\n",
       "      <td>0.000000</td>\n",
       "      <td>0.000000</td>\n",
       "    </tr>\n",
       "    <tr>\n",
       "      <th>25%</th>\n",
       "      <td>3.258256e+06</td>\n",
       "      <td>3.275204e+06</td>\n",
       "      <td>98.000000</td>\n",
       "      <td>100.000000</td>\n",
       "      <td>1.000000</td>\n",
       "      <td>2.000000</td>\n",
       "      <td>1.000000</td>\n",
       "      <td>1.000000</td>\n",
       "      <td>1.000000</td>\n",
       "      <td>420.000000</td>\n",
       "      <td>75.000000</td>\n",
       "      <td>150.000000</td>\n",
       "      <td>25.000000</td>\n",
       "      <td>2.000000</td>\n",
       "      <td>87.000000</td>\n",
       "      <td>160.000000</td>\n",
       "    </tr>\n",
       "    <tr>\n",
       "      <th>50%</th>\n",
       "      <td>6.118244e+06</td>\n",
       "      <td>1.055814e+07</td>\n",
       "      <td>100.000000</td>\n",
       "      <td>100.000000</td>\n",
       "      <td>1.000000</td>\n",
       "      <td>3.000000</td>\n",
       "      <td>1.000000</td>\n",
       "      <td>1.000000</td>\n",
       "      <td>1.000000</td>\n",
       "      <td>750.000000</td>\n",
       "      <td>100.000000</td>\n",
       "      <td>250.000000</td>\n",
       "      <td>50.000000</td>\n",
       "      <td>9.000000</td>\n",
       "      <td>95.000000</td>\n",
       "      <td>819.000000</td>\n",
       "    </tr>\n",
       "    <tr>\n",
       "      <th>75%</th>\n",
       "      <td>8.035127e+06</td>\n",
       "      <td>2.590309e+07</td>\n",
       "      <td>100.000000</td>\n",
       "      <td>100.000000</td>\n",
       "      <td>3.000000</td>\n",
       "      <td>4.000000</td>\n",
       "      <td>1.000000</td>\n",
       "      <td>2.000000</td>\n",
       "      <td>2.000000</td>\n",
       "      <td>1200.000000</td>\n",
       "      <td>150.000000</td>\n",
       "      <td>300.000000</td>\n",
       "      <td>83.000000</td>\n",
       "      <td>26.000000</td>\n",
       "      <td>98.000000</td>\n",
       "      <td>2475.000000</td>\n",
       "    </tr>\n",
       "    <tr>\n",
       "      <th>max</th>\n",
       "      <td>1.034016e+07</td>\n",
       "      <td>5.320861e+07</td>\n",
       "      <td>100.000000</td>\n",
       "      <td>100.000000</td>\n",
       "      <td>502.000000</td>\n",
       "      <td>16.000000</td>\n",
       "      <td>8.000000</td>\n",
       "      <td>7.000000</td>\n",
       "      <td>15.000000</td>\n",
       "      <td>3000.000000</td>\n",
       "      <td>1000.000000</td>\n",
       "      <td>5000.000000</td>\n",
       "      <td>300.000000</td>\n",
       "      <td>474.000000</td>\n",
       "      <td>100.000000</td>\n",
       "      <td>45030.000000</td>\n",
       "    </tr>\n",
       "  </tbody>\n",
       "</table>\n",
       "</div>"
      ],
      "text/plain": [
       "         listing_id       host_id  host_response_rate  host_acceptance_rate  \\\n",
       "count  3.818000e+03  3.818000e+03         3295.000000           3045.000000   \n",
       "mean   5.550111e+06  1.578556e+07           94.886798             99.967159   \n",
       "std    2.962660e+06  1.458382e+07           11.866705              1.812201   \n",
       "min    3.335000e+03  4.193000e+03           17.000000              0.000000   \n",
       "25%    3.258256e+06  3.275204e+06           98.000000            100.000000   \n",
       "50%    6.118244e+06  1.055814e+07          100.000000            100.000000   \n",
       "75%    8.035127e+06  2.590309e+07          100.000000            100.000000   \n",
       "max    1.034016e+07  5.320861e+07          100.000000            100.000000   \n",
       "\n",
       "       host_total_listings_count  accommodates    bathrooms     bedrooms  \\\n",
       "count                3816.000000   3818.000000  3802.000000  3812.000000   \n",
       "mean                    7.157757      3.349398     1.259469     1.307712   \n",
       "std                    28.628149      1.977599     0.590369     0.883395   \n",
       "min                     1.000000      1.000000     0.000000     0.000000   \n",
       "25%                     1.000000      2.000000     1.000000     1.000000   \n",
       "50%                     1.000000      3.000000     1.000000     1.000000   \n",
       "75%                     3.000000      4.000000     1.000000     2.000000   \n",
       "max                   502.000000     16.000000     8.000000     7.000000   \n",
       "\n",
       "              beds  square_feet        price  security_deposit  cleaning_fee  \\\n",
       "count  3817.000000    97.000000  3818.000000       1866.000000   2788.000000   \n",
       "mean      1.735394   854.618557   127.976166        287.610397     61.710904   \n",
       "std       1.139480   671.404893    90.250022        270.222690     48.830341   \n",
       "min       1.000000     0.000000    20.000000         95.000000      5.000000   \n",
       "25%       1.000000   420.000000    75.000000        150.000000     25.000000   \n",
       "50%       1.000000   750.000000   100.000000        250.000000     50.000000   \n",
       "75%       2.000000  1200.000000   150.000000        300.000000     83.000000   \n",
       "max      15.000000  3000.000000  1000.000000       5000.000000    300.000000   \n",
       "\n",
       "       number_of_reviews  review_scores_rating  weighted_rating_score  \n",
       "count        3818.000000           3818.000000            3818.000000  \n",
       "mean           22.223415             78.932070            2108.837779  \n",
       "std            37.730892             35.524907            3590.384744  \n",
       "min             0.000000              0.000000               0.000000  \n",
       "25%             2.000000             87.000000             160.000000  \n",
       "50%             9.000000             95.000000             819.000000  \n",
       "75%            26.000000             98.000000            2475.000000  \n",
       "max           474.000000            100.000000           45030.000000  "
      ]
     },
     "execution_count": 42,
     "metadata": {},
     "output_type": "execute_result"
    }
   ],
   "source": [
    "#But first drop useless columns like square_feet which is > 97% missing\n",
    "listing_filtered.describe()"
   ]
  },
  {
   "cell_type": "code",
   "execution_count": 43,
   "metadata": {},
   "outputs": [],
   "source": [
    "listing_filtered = listing_filtered.drop('square_feet',axis=1)"
   ]
  },
  {
   "cell_type": "code",
   "execution_count": 44,
   "metadata": {
    "scrolled": false
   },
   "outputs": [
    {
     "data": {
      "image/png": "[encoded data removed]",
      "text/plain": [
       "<Figure size 720x720 with 2 Axes>"
      ]
     },
     "metadata": {
      "needs_background": "light"
     },
     "output_type": "display_data"
    }
   ],
   "source": [
    "fig, ax = plt.subplots(figsize=(10,10))   \n",
    "sns.heatmap(listing_filtered.corr(),annot=True, linewidths=.5, ax=ax,fmt='.2f');"
   ]
  },
  {
   "cell_type": "markdown",
   "metadata": {},
   "source": [
    "As seen from above most correlated features with Price of listing are:\n",
    "['accommodates', 'bathrooms', 'bedrooms','beds', 'security_deposit', 'cleaning_fee']"
   ]
  },
  {
   "cell_type": "markdown",
   "metadata": {},
   "source": [
    "### Question 4\n",
    "Does review rating and cancellation policy have any influence on price? If yes how much compared to other features?\n",
    "<br>As seen from the correlation plot we see there is hardly any relation but correlation doesn't explain causality so to answer this we will have to quantify predictive power of both review rating and cancellation policy towards price prediction.\n",
    "<br> That means we will need to build a predictive model and based on shap values of features we will calculate/quantify the predictive power of each feature (both categorical and numerical)."
   ]
  },
  {
   "cell_type": "code",
   "execution_count": 45,
   "metadata": {},
   "outputs": [],
   "source": [
    "listing_filtered = listing_filtered.drop(['listing_id','host_id'],axis=1)"
   ]
  },
  {
   "cell_type": "code",
   "execution_count": 46,
   "metadata": {},
   "outputs": [
    {
     "data": {
      "text/plain": [
       "host_response_time            523\n",
       "host_response_rate            523\n",
       "host_acceptance_rate          773\n",
       "host_is_superhost               2\n",
       "host_total_listings_count       2\n",
       "host_identity_verified          2\n",
       "neighbourhood                 416\n",
       "property_type                   1\n",
       "room_type                       0\n",
       "accommodates                    0\n",
       "bathrooms                      16\n",
       "bedrooms                        6\n",
       "beds                            1\n",
       "bed_type                        0\n",
       "price                           0\n",
       "security_deposit             1952\n",
       "cleaning_fee                 1030\n",
       "has_availability                0\n",
       "number_of_reviews               0\n",
       "review_scores_rating            0\n",
       "cancellation_policy             0\n",
       "weighted_rating_score           0\n",
       "dtype: int64"
      ]
     },
     "execution_count": 46,
     "metadata": {},
     "output_type": "execute_result"
    }
   ],
   "source": [
    "listing_filtered.isna().sum()"
   ]
  },
  {
   "cell_type": "code",
   "execution_count": 47,
   "metadata": {},
   "outputs": [
    {
     "name": "stdout",
     "output_type": "stream",
     "text": [
      "Capitol Hill\n"
     ]
    }
   ],
   "source": [
    "val = listing_filtered['neighbourhood'].mode().item()\n",
    "print(val)"
   ]
  },
  {
   "cell_type": "code",
   "execution_count": 49,
   "metadata": {},
   "outputs": [],
   "source": [
    "le = preprocessing.LabelEncoder()\n",
    "listing_filtered['neighbourhood'] = listing_filtered['neighbourhood'].fillna(val)\n",
    "listing_filtered['neighbourhood'] = le.fit_transform(listing_filtered['neighbourhood'])\n"
   ]
  },
  {
   "cell_type": "code",
   "execution_count": 50,
   "metadata": {},
   "outputs": [
    {
     "data": {
      "text/html": [
       "<div>\n",
       "<style scoped>\n",
       "    .dataframe tbody tr th:only-of-type {\n",
       "        vertical-align: middle;\n",
       "    }\n",
       "\n",
       "    .dataframe tbody tr th {\n",
       "        vertical-align: top;\n",
       "    }\n",
       "\n",
       "    .dataframe thead th {\n",
       "        text-align: right;\n",
       "    }\n",
       "</style>\n",
       "<table border=\"1\" class=\"dataframe\">\n",
       "  <thead>\n",
       "    <tr style=\"text-align: right;\">\n",
       "      <th></th>\n",
       "      <th>host_response_time</th>\n",
       "      <th>host_response_rate</th>\n",
       "      <th>host_acceptance_rate</th>\n",
       "      <th>host_is_superhost</th>\n",
       "      <th>host_total_listings_count</th>\n",
       "      <th>host_identity_verified</th>\n",
       "      <th>neighbourhood</th>\n",
       "      <th>property_type</th>\n",
       "      <th>room_type</th>\n",
       "      <th>accommodates</th>\n",
       "      <th>...</th>\n",
       "      <th>beds</th>\n",
       "      <th>bed_type</th>\n",
       "      <th>price</th>\n",
       "      <th>security_deposit</th>\n",
       "      <th>cleaning_fee</th>\n",
       "      <th>has_availability</th>\n",
       "      <th>number_of_reviews</th>\n",
       "      <th>review_scores_rating</th>\n",
       "      <th>cancellation_policy</th>\n",
       "      <th>weighted_rating_score</th>\n",
       "    </tr>\n",
       "  </thead>\n",
       "  <tbody>\n",
       "    <tr>\n",
       "      <th>0</th>\n",
       "      <td>within a few hours</td>\n",
       "      <td>96.0</td>\n",
       "      <td>100.0</td>\n",
       "      <td>f</td>\n",
       "      <td>3.0</td>\n",
       "      <td>t</td>\n",
       "      <td>59</td>\n",
       "      <td>Apartment</td>\n",
       "      <td>Entire home/apt</td>\n",
       "      <td>4</td>\n",
       "      <td>...</td>\n",
       "      <td>1.0</td>\n",
       "      <td>Real Bed</td>\n",
       "      <td>85.0</td>\n",
       "      <td>NaN</td>\n",
       "      <td>NaN</td>\n",
       "      <td>t</td>\n",
       "      <td>207</td>\n",
       "      <td>95.0</td>\n",
       "      <td>moderate</td>\n",
       "      <td>19665.0</td>\n",
       "    </tr>\n",
       "    <tr>\n",
       "      <th>1</th>\n",
       "      <td>within an hour</td>\n",
       "      <td>98.0</td>\n",
       "      <td>100.0</td>\n",
       "      <td>t</td>\n",
       "      <td>6.0</td>\n",
       "      <td>t</td>\n",
       "      <td>59</td>\n",
       "      <td>Apartment</td>\n",
       "      <td>Entire home/apt</td>\n",
       "      <td>4</td>\n",
       "      <td>...</td>\n",
       "      <td>1.0</td>\n",
       "      <td>Real Bed</td>\n",
       "      <td>150.0</td>\n",
       "      <td>100.0</td>\n",
       "      <td>40.0</td>\n",
       "      <td>t</td>\n",
       "      <td>43</td>\n",
       "      <td>96.0</td>\n",
       "      <td>strict</td>\n",
       "      <td>4128.0</td>\n",
       "    </tr>\n",
       "    <tr>\n",
       "      <th>2</th>\n",
       "      <td>within a few hours</td>\n",
       "      <td>67.0</td>\n",
       "      <td>100.0</td>\n",
       "      <td>f</td>\n",
       "      <td>2.0</td>\n",
       "      <td>t</td>\n",
       "      <td>59</td>\n",
       "      <td>House</td>\n",
       "      <td>Entire home/apt</td>\n",
       "      <td>11</td>\n",
       "      <td>...</td>\n",
       "      <td>7.0</td>\n",
       "      <td>Real Bed</td>\n",
       "      <td>975.0</td>\n",
       "      <td>1000.0</td>\n",
       "      <td>300.0</td>\n",
       "      <td>t</td>\n",
       "      <td>20</td>\n",
       "      <td>97.0</td>\n",
       "      <td>strict</td>\n",
       "      <td>1940.0</td>\n",
       "    </tr>\n",
       "    <tr>\n",
       "      <th>3</th>\n",
       "      <td>NaN</td>\n",
       "      <td>NaN</td>\n",
       "      <td>NaN</td>\n",
       "      <td>f</td>\n",
       "      <td>1.0</td>\n",
       "      <td>t</td>\n",
       "      <td>59</td>\n",
       "      <td>Apartment</td>\n",
       "      <td>Entire home/apt</td>\n",
       "      <td>3</td>\n",
       "      <td>...</td>\n",
       "      <td>2.0</td>\n",
       "      <td>Real Bed</td>\n",
       "      <td>100.0</td>\n",
       "      <td>NaN</td>\n",
       "      <td>NaN</td>\n",
       "      <td>t</td>\n",
       "      <td>0</td>\n",
       "      <td>0.0</td>\n",
       "      <td>flexible</td>\n",
       "      <td>0.0</td>\n",
       "    </tr>\n",
       "    <tr>\n",
       "      <th>4</th>\n",
       "      <td>within an hour</td>\n",
       "      <td>100.0</td>\n",
       "      <td>NaN</td>\n",
       "      <td>f</td>\n",
       "      <td>2.0</td>\n",
       "      <td>t</td>\n",
       "      <td>59</td>\n",
       "      <td>House</td>\n",
       "      <td>Entire home/apt</td>\n",
       "      <td>6</td>\n",
       "      <td>...</td>\n",
       "      <td>3.0</td>\n",
       "      <td>Real Bed</td>\n",
       "      <td>450.0</td>\n",
       "      <td>700.0</td>\n",
       "      <td>125.0</td>\n",
       "      <td>t</td>\n",
       "      <td>38</td>\n",
       "      <td>92.0</td>\n",
       "      <td>strict</td>\n",
       "      <td>3496.0</td>\n",
       "    </tr>\n",
       "    <tr>\n",
       "      <th>...</th>\n",
       "      <td>...</td>\n",
       "      <td>...</td>\n",
       "      <td>...</td>\n",
       "      <td>...</td>\n",
       "      <td>...</td>\n",
       "      <td>...</td>\n",
       "      <td>...</td>\n",
       "      <td>...</td>\n",
       "      <td>...</td>\n",
       "      <td>...</td>\n",
       "      <td>...</td>\n",
       "      <td>...</td>\n",
       "      <td>...</td>\n",
       "      <td>...</td>\n",
       "      <td>...</td>\n",
       "      <td>...</td>\n",
       "      <td>...</td>\n",
       "      <td>...</td>\n",
       "      <td>...</td>\n",
       "      <td>...</td>\n",
       "      <td>...</td>\n",
       "    </tr>\n",
       "    <tr>\n",
       "      <th>3813</th>\n",
       "      <td>within a few hours</td>\n",
       "      <td>99.0</td>\n",
       "      <td>100.0</td>\n",
       "      <td>f</td>\n",
       "      <td>354.0</td>\n",
       "      <td>t</td>\n",
       "      <td>20</td>\n",
       "      <td>House</td>\n",
       "      <td>Entire home/apt</td>\n",
       "      <td>6</td>\n",
       "      <td>...</td>\n",
       "      <td>3.0</td>\n",
       "      <td>Real Bed</td>\n",
       "      <td>359.0</td>\n",
       "      <td>NaN</td>\n",
       "      <td>230.0</td>\n",
       "      <td>t</td>\n",
       "      <td>1</td>\n",
       "      <td>80.0</td>\n",
       "      <td>strict</td>\n",
       "      <td>80.0</td>\n",
       "    </tr>\n",
       "    <tr>\n",
       "      <th>3814</th>\n",
       "      <td>within an hour</td>\n",
       "      <td>100.0</td>\n",
       "      <td>100.0</td>\n",
       "      <td>f</td>\n",
       "      <td>1.0</td>\n",
       "      <td>t</td>\n",
       "      <td>58</td>\n",
       "      <td>Apartment</td>\n",
       "      <td>Entire home/apt</td>\n",
       "      <td>4</td>\n",
       "      <td>...</td>\n",
       "      <td>2.0</td>\n",
       "      <td>Real Bed</td>\n",
       "      <td>79.0</td>\n",
       "      <td>500.0</td>\n",
       "      <td>50.0</td>\n",
       "      <td>t</td>\n",
       "      <td>2</td>\n",
       "      <td>100.0</td>\n",
       "      <td>moderate</td>\n",
       "      <td>200.0</td>\n",
       "    </tr>\n",
       "    <tr>\n",
       "      <th>3815</th>\n",
       "      <td>NaN</td>\n",
       "      <td>NaN</td>\n",
       "      <td>NaN</td>\n",
       "      <td>f</td>\n",
       "      <td>1.0</td>\n",
       "      <td>f</td>\n",
       "      <td>10</td>\n",
       "      <td>House</td>\n",
       "      <td>Entire home/apt</td>\n",
       "      <td>2</td>\n",
       "      <td>...</td>\n",
       "      <td>1.0</td>\n",
       "      <td>Real Bed</td>\n",
       "      <td>93.0</td>\n",
       "      <td>250.0</td>\n",
       "      <td>35.0</td>\n",
       "      <td>t</td>\n",
       "      <td>0</td>\n",
       "      <td>0.0</td>\n",
       "      <td>moderate</td>\n",
       "      <td>0.0</td>\n",
       "    </tr>\n",
       "    <tr>\n",
       "      <th>3816</th>\n",
       "      <td>within an hour</td>\n",
       "      <td>100.0</td>\n",
       "      <td>NaN</td>\n",
       "      <td>f</td>\n",
       "      <td>1.0</td>\n",
       "      <td>t</td>\n",
       "      <td>10</td>\n",
       "      <td>Condominium</td>\n",
       "      <td>Entire home/apt</td>\n",
       "      <td>2</td>\n",
       "      <td>...</td>\n",
       "      <td>1.0</td>\n",
       "      <td>Real Bed</td>\n",
       "      <td>99.0</td>\n",
       "      <td>300.0</td>\n",
       "      <td>45.0</td>\n",
       "      <td>t</td>\n",
       "      <td>0</td>\n",
       "      <td>0.0</td>\n",
       "      <td>moderate</td>\n",
       "      <td>0.0</td>\n",
       "    </tr>\n",
       "    <tr>\n",
       "      <th>3817</th>\n",
       "      <td>within a day</td>\n",
       "      <td>100.0</td>\n",
       "      <td>NaN</td>\n",
       "      <td>f</td>\n",
       "      <td>1.0</td>\n",
       "      <td>t</td>\n",
       "      <td>59</td>\n",
       "      <td>Apartment</td>\n",
       "      <td>Entire home/apt</td>\n",
       "      <td>3</td>\n",
       "      <td>...</td>\n",
       "      <td>1.0</td>\n",
       "      <td>Real Bed</td>\n",
       "      <td>87.0</td>\n",
       "      <td>NaN</td>\n",
       "      <td>NaN</td>\n",
       "      <td>t</td>\n",
       "      <td>0</td>\n",
       "      <td>0.0</td>\n",
       "      <td>flexible</td>\n",
       "      <td>0.0</td>\n",
       "    </tr>\n",
       "  </tbody>\n",
       "</table>\n",
       "<p>3818 rows × 22 columns</p>\n",
       "</div>"
      ],
      "text/plain": [
       "      host_response_time  host_response_rate  host_acceptance_rate  \\\n",
       "0     within a few hours                96.0                 100.0   \n",
       "1         within an hour                98.0                 100.0   \n",
       "2     within a few hours                67.0                 100.0   \n",
       "3                    NaN                 NaN                   NaN   \n",
       "4         within an hour               100.0                   NaN   \n",
       "...                  ...                 ...                   ...   \n",
       "3813  within a few hours                99.0                 100.0   \n",
       "3814      within an hour               100.0                 100.0   \n",
       "3815                 NaN                 NaN                   NaN   \n",
       "3816      within an hour               100.0                   NaN   \n",
       "3817        within a day               100.0                   NaN   \n",
       "\n",
       "     host_is_superhost  host_total_listings_count host_identity_verified  \\\n",
       "0                    f                        3.0                      t   \n",
       "1                    t                        6.0                      t   \n",
       "2                    f                        2.0                      t   \n",
       "3                    f                        1.0                      t   \n",
       "4                    f                        2.0                      t   \n",
       "...                ...                        ...                    ...   \n",
       "3813                 f                      354.0                      t   \n",
       "3814                 f                        1.0                      t   \n",
       "3815                 f                        1.0                      f   \n",
       "3816                 f                        1.0                      t   \n",
       "3817                 f                        1.0                      t   \n",
       "\n",
       "      neighbourhood property_type        room_type  accommodates  ...  beds  \\\n",
       "0                59     Apartment  Entire home/apt             4  ...   1.0   \n",
       "1                59     Apartment  Entire home/apt             4  ...   1.0   \n",
       "2                59         House  Entire home/apt            11  ...   7.0   \n",
       "3                59     Apartment  Entire home/apt             3  ...   2.0   \n",
       "4                59         House  Entire home/apt             6  ...   3.0   \n",
       "...             ...           ...              ...           ...  ...   ...   \n",
       "3813             20         House  Entire home/apt             6  ...   3.0   \n",
       "3814             58     Apartment  Entire home/apt             4  ...   2.0   \n",
       "3815             10         House  Entire home/apt             2  ...   1.0   \n",
       "3816             10   Condominium  Entire home/apt             2  ...   1.0   \n",
       "3817             59     Apartment  Entire home/apt             3  ...   1.0   \n",
       "\n",
       "      bed_type  price security_deposit  cleaning_fee  has_availability  \\\n",
       "0     Real Bed   85.0              NaN           NaN                 t   \n",
       "1     Real Bed  150.0            100.0          40.0                 t   \n",
       "2     Real Bed  975.0           1000.0         300.0                 t   \n",
       "3     Real Bed  100.0              NaN           NaN                 t   \n",
       "4     Real Bed  450.0            700.0         125.0                 t   \n",
       "...        ...    ...              ...           ...               ...   \n",
       "3813  Real Bed  359.0              NaN         230.0                 t   \n",
       "3814  Real Bed   79.0            500.0          50.0                 t   \n",
       "3815  Real Bed   93.0            250.0          35.0                 t   \n",
       "3816  Real Bed   99.0            300.0          45.0                 t   \n",
       "3817  Real Bed   87.0              NaN           NaN                 t   \n",
       "\n",
       "      number_of_reviews review_scores_rating  cancellation_policy  \\\n",
       "0                   207                 95.0             moderate   \n",
       "1                    43                 96.0               strict   \n",
       "2                    20                 97.0               strict   \n",
       "3                     0                  0.0             flexible   \n",
       "4                    38                 92.0               strict   \n",
       "...                 ...                  ...                  ...   \n",
       "3813                  1                 80.0               strict   \n",
       "3814                  2                100.0             moderate   \n",
       "3815                  0                  0.0             moderate   \n",
       "3816                  0                  0.0             moderate   \n",
       "3817                  0                  0.0             flexible   \n",
       "\n",
       "      weighted_rating_score  \n",
       "0                   19665.0  \n",
       "1                    4128.0  \n",
       "2                    1940.0  \n",
       "3                       0.0  \n",
       "4                    3496.0  \n",
       "...                     ...  \n",
       "3813                   80.0  \n",
       "3814                  200.0  \n",
       "3815                    0.0  \n",
       "3816                    0.0  \n",
       "3817                    0.0  \n",
       "\n",
       "[3818 rows x 22 columns]"
      ]
     },
     "execution_count": 50,
     "metadata": {},
     "output_type": "execute_result"
    }
   ],
   "source": [
    "listing_filtered"
   ]
  },
  {
   "cell_type": "code",
   "execution_count": 51,
   "metadata": {},
   "outputs": [],
   "source": [
    "# First lets impute missing values for both categorical and numerical features\n",
    "\n",
    "llf = listing_filtered.copy(deep=True)\n",
    "num_vars = llf.select_dtypes(include=['float', 'int']).columns\n",
    "for col in num_vars:\n",
    "    llf[col].fillna((llf[col].mean()), inplace=True)\n",
    "\n",
    "# Dummy the categorical variables\n",
    "cat_vars = llf.select_dtypes(include=['object']).copy().columns.tolist()\n",
    "for cols in cat_vars:\n",
    "    llf[cols].fillna((llf[cols].mode()),inplace=True)\n",
    "for var in  cat_vars:\n",
    "    # for each cat add dummy var, drop original column\n",
    "    llf = pd.concat([llf.drop(var, axis=1), pd.get_dummies(llf[var], prefix=var, prefix_sep='_', drop_first=True)], axis=1)\n"
   ]
  },
  {
   "cell_type": "code",
   "execution_count": 52,
   "metadata": {},
   "outputs": [
    {
     "data": {
      "text/plain": [
       "host_response_rate                       0\n",
       "host_acceptance_rate                     0\n",
       "host_total_listings_count                0\n",
       "neighbourhood                            0\n",
       "accommodates                             0\n",
       "bathrooms                                0\n",
       "bedrooms                                 0\n",
       "beds                                     0\n",
       "price                                    0\n",
       "security_deposit                         0\n",
       "cleaning_fee                             0\n",
       "number_of_reviews                        0\n",
       "review_scores_rating                     0\n",
       "weighted_rating_score                    0\n",
       "host_response_time_within a day          0\n",
       "host_response_time_within a few hours    0\n",
       "host_response_time_within an hour        0\n",
       "host_is_superhost_t                      0\n",
       "host_identity_verified_t                 0\n",
       "property_type_Bed & Breakfast            0\n",
       "property_type_Boat                       0\n",
       "property_type_Bungalow                   0\n",
       "property_type_Cabin                      0\n",
       "property_type_Camper/RV                  0\n",
       "property_type_Chalet                     0\n",
       "property_type_Condominium                0\n",
       "property_type_Dorm                       0\n",
       "property_type_House                      0\n",
       "property_type_Loft                       0\n",
       "property_type_Other                      0\n",
       "property_type_Tent                       0\n",
       "property_type_Townhouse                  0\n",
       "property_type_Treehouse                  0\n",
       "property_type_Yurt                       0\n",
       "room_type_Private room                   0\n",
       "room_type_Shared room                    0\n",
       "bed_type_Couch                           0\n",
       "bed_type_Futon                           0\n",
       "bed_type_Pull-out Sofa                   0\n",
       "bed_type_Real Bed                        0\n",
       "cancellation_policy_moderate             0\n",
       "cancellation_policy_strict               0\n",
       "dtype: int64"
      ]
     },
     "execution_count": 52,
     "metadata": {},
     "output_type": "execute_result"
    }
   ],
   "source": [
    "llf.isna().sum()"
   ]
  },
  {
   "cell_type": "code",
   "execution_count": 54,
   "metadata": {},
   "outputs": [],
   "source": [
    "#Preparing data for machine learning model prediction\n",
    "X = llf.drop('price',axis=1)\n",
    "y = llf['price']"
   ]
  },
  {
   "cell_type": "code",
   "execution_count": 55,
   "metadata": {},
   "outputs": [],
   "source": [
    "#splitting dataset into training and testing dataset\n",
    "X_train, X_test, y_train, y_test = train_test_split(X,y,test_size=0.3,random_state=42)"
   ]
  },
  {
   "cell_type": "code",
   "execution_count": 56,
   "metadata": {},
   "outputs": [],
   "source": [
    "#Instantiating a XGBoost model and predicting on test datset\n",
    "seed_xgb = 456\n",
    "model = xgb.XGBRegressor(random_state=seed_xgb)\n",
    "model.fit(X_train,y_train)\n",
    "preds = model.predict(X_test)"
   ]
  },
  {
   "cell_type": "code",
   "execution_count": 57,
   "metadata": {},
   "outputs": [
    {
     "name": "stdout",
     "output_type": "stream",
     "text": [
      "RMSE 59.17054575485236\n"
     ]
    }
   ],
   "source": [
    "#Score of our predictions in terms of RMSE metric (the less the better is the prediction)\n",
    "print('RMSE',np.sqrt(mean_squared_error(preds,y_test.values)))"
   ]
  },
  {
   "cell_type": "code",
   "execution_count": 58,
   "metadata": {},
   "outputs": [],
   "source": [
    "# lets try to improve it"
   ]
  },
  {
   "cell_type": "code",
   "execution_count": 59,
   "metadata": {},
   "outputs": [
    {
     "name": "stdout",
     "output_type": "stream",
     "text": [
      "The best hyperparameters are  {'learning_rate': 0.01, 'max_depth': 4, 'n_estimators': 700}\n"
     ]
    }
   ],
   "source": [
    "regressor=xgb.XGBRegressor(eval_metric='rmse',random_state=seed_xgb)\n",
    "\n",
    "#=========================================================================\n",
    "# exhaustively search for the optimal hyperparameters\n",
    "#=========================================================================\n",
    "\n",
    "# set up our search grid\n",
    "param_grid = {\"max_depth\":    [4, 5],\n",
    "              \"n_estimators\": [500, 600, 700],\n",
    "              \"learning_rate\": [0.01, 0.015]}\n",
    "\n",
    " \n",
    "seed_cv = 123\n",
    "kf = KFold(n_splits=5, random_state=seed_cv)\n",
    "\n",
    "# try out every combination of the above values\n",
    "search = GridSearchCV(regressor, param_grid, cv=kf).fit(X_train, y_train)\n",
    "\n",
    "print(\"The best hyperparameters are \",search.best_params_)\n"
   ]
  },
  {
   "cell_type": "code",
   "execution_count": 60,
   "metadata": {},
   "outputs": [
    {
     "data": {
      "text/plain": [
       "XGBRegressor(base_score=0.5, booster='gbtree', colsample_bylevel=1,\n",
       "             colsample_bynode=1, colsample_bytree=1, eval_metric='rmse',\n",
       "             gamma=0, gpu_id=-1, importance_type='gain',\n",
       "             interaction_constraints='', learning_rate=0.01, max_delta_step=0,\n",
       "             max_depth=4, min_child_weight=1, missing=nan,\n",
       "             monotone_constraints='()', n_estimators=700, n_jobs=0,\n",
       "             num_parallel_tree=1, random_state=0, reg_alpha=0, reg_lambda=1,\n",
       "             scale_pos_weight=1, subsample=1, tree_method='exact',\n",
       "             validate_parameters=1, verbosity=None)"
      ]
     },
     "execution_count": 60,
     "metadata": {},
     "output_type": "execute_result"
    }
   ],
   "source": [
    "regressor=xgb.XGBRegressor(learning_rate = search.best_params_[\"learning_rate\"],\n",
    "                           n_estimators  = search.best_params_[\"n_estimators\"],\n",
    "                           max_depth     = search.best_params_[\"max_depth\"],\n",
    "                           eval_metric='rmse')\n",
    "\n",
    "regressor.fit(X_train, y_train)"
   ]
  },
  {
   "cell_type": "code",
   "execution_count": 61,
   "metadata": {},
   "outputs": [],
   "source": [
    "predictions = regressor.predict(X_test)"
   ]
  },
  {
   "cell_type": "code",
   "execution_count": 62,
   "metadata": {},
   "outputs": [
    {
     "name": "stdout",
     "output_type": "stream",
     "text": [
      "RMSE 56.15778028461205\n"
     ]
    }
   ],
   "source": [
    "print('RMSE',np.sqrt(mean_squared_error(predictions,y_test.values)))"
   ]
  },
  {
   "cell_type": "markdown",
   "metadata": {},
   "source": [
    "RMSE 56 is better than 59 but there can be scope of improvement further."
   ]
  },
  {
   "cell_type": "code",
   "execution_count": 63,
   "metadata": {},
   "outputs": [
    {
     "data": {
      "image/png": "[encoded data removed]",
      "text/plain": [
       "<Figure size 576x684 with 1 Axes>"
      ]
     },
     "metadata": {
      "needs_background": "light"
     },
     "output_type": "display_data"
    }
   ],
   "source": [
    "# Creating a summary plot using shap values to get an idea of predictive power of each feature\n",
    "explainer = shap.TreeExplainer(regressor)\n",
    "shap_values = explainer.shap_values(X_test)\n",
    "shap.summary_plot(shap_values, X_test, plot_type=\"bar\")"
   ]
  },
  {
   "cell_type": "markdown",
   "metadata": {},
   "source": [
    "Clearly both review rating and cancellation policy are among the contributors to price (if not at the top) as per the dataset given to us. It is interesting to find how host response time is also influential to price of the listing."
   ]
  },
  {
   "cell_type": "code",
   "execution_count": 18,
   "metadata": {},
   "outputs": [],
   "source": []
  },
  {
   "cell_type": "code",
   "execution_count": null,
   "metadata": {},
   "outputs": [],
   "source": []
  }
 ],
 "metadata": {
  "kernelspec": {
   "display_name": "Python 3",
   "language": "python",
   "name": "python3"
  },
  "language_info": {
   "codemirror_mode": {
    "name": "ipython",
    "version": 3
   },
   "file_extension": ".py",
   "mimetype": "text/x-python",
   "name": "python",
   "nbconvert_exporter": "python",
   "pygments_lexer": "ipython3",
   "version": "3.7.9"
  }
 },
 "nbformat": 4,
 "nbformat_minor": 4
}
